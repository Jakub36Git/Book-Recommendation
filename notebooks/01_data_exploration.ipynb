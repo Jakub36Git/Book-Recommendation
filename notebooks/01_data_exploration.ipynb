{
 "cells": [
  {
   "cell_type": "markdown",
   "id": "4bb2a412-6e50-4984-a74f-5430b7dea578",
   "metadata": {},
   "source": [
    "# Initial Exploration\n",
    "\n",
    "The Book-Crossing dataset comprises 3 files.\n",
    "\n",
    "Users:\n",
    "Contains the users. Note that user IDs (User-ID) have been anonymized and map to integers. Demographic data is provided (Location, Age) if available. Otherwise, these fields contain NULL-values.\n",
    "\n",
    "Books:\n",
    "Books are identified by their respective ISBN. Invalid ISBNs have already been removed from the dataset. Moreover, some content-based information is given (Book-Title, Book-Author, Year-Of-Publication, Publisher), obtained from Amazon Web Services. Note that in case of several authors, only the first is provided. URLs linking to cover images are also given, appearing in three different flavours (Image-URL-S, Image-URL-M, Image-URL-L), i.e., small, medium, large. These URLs point to the Amazon web site.\n",
    "\n",
    "Ratings:\n",
    "Contains the book rating information. Ratings (Book-Rating) are either explicit, expressed on a scale from 1-10 (higher values denoting higher appreciation), or implicit, expressed by 0.\n",
    "\n",
    "<p style=\"font-size:small;\">\n",
    "Original dataset: <a href=\"https://www.kaggle.com/datasets/arashnic/book-recommendation-dataset/code\" target=\"_blank\">Kaggle – Recommendation Dataset</a>\n",
    "</p>\n"
   ]
  },
  {
   "cell_type": "code",
   "execution_count": 1,
   "id": "42720c39-92bd-4a03-a851-fcf7695e6431",
   "metadata": {},
   "outputs": [],
   "source": [
    "import pandas as pd\n",
    "\n",
    "#Load the data\n",
    "\n",
    "books = pd.read_csv('../data/Books.csv', low_memory=False) # Solved Warning: Columns (3) have mixed types. Specify dtype option on import or set low_memory=False.\n",
    "users = pd.read_csv('../data/Users.csv')\n",
    "ratings = pd.read_csv('../data/Ratings.csv')\n",
    "\n"
   ]
  },
  {
   "cell_type": "markdown",
   "id": "af1254a5-1c91-4b06-94ce-fefc4173973f",
   "metadata": {},
   "source": [
    "# I.Books"
   ]
  },
  {
   "cell_type": "code",
   "execution_count": 2,
   "id": "027434ad-f0ae-43e9-a9f3-8b0c33219f5c",
   "metadata": {
    "scrolled": true
   },
   "outputs": [
    {
     "name": "stdout",
     "output_type": "stream",
     "text": [
      "<class 'pandas.core.frame.DataFrame'>\n",
      "RangeIndex: 271360 entries, 0 to 271359\n",
      "Data columns (total 8 columns):\n",
      " #   Column               Non-Null Count   Dtype \n",
      "---  ------               --------------   ----- \n",
      " 0   ISBN                 271360 non-null  object\n",
      " 1   Book-Title           271360 non-null  object\n",
      " 2   Book-Author          271358 non-null  object\n",
      " 3   Year-Of-Publication  271360 non-null  object\n",
      " 4   Publisher            271358 non-null  object\n",
      " 5   Image-URL-S          271360 non-null  object\n",
      " 6   Image-URL-M          271360 non-null  object\n",
      " 7   Image-URL-L          271357 non-null  object\n",
      "dtypes: object(8)\n",
      "memory usage: 16.6+ MB\n"
     ]
    }
   ],
   "source": [
    "books.info()"
   ]
  },
  {
   "cell_type": "code",
   "execution_count": 3,
   "id": "dec75fbe-d9b0-4c0b-b2df-9e2fdb255cea",
   "metadata": {},
   "outputs": [
    {
     "data": {
      "text/html": [
       "<div>\n",
       "<style scoped>\n",
       "    .dataframe tbody tr th:only-of-type {\n",
       "        vertical-align: middle;\n",
       "    }\n",
       "\n",
       "    .dataframe tbody tr th {\n",
       "        vertical-align: top;\n",
       "    }\n",
       "\n",
       "    .dataframe thead th {\n",
       "        text-align: right;\n",
       "    }\n",
       "</style>\n",
       "<table border=\"1\" class=\"dataframe\">\n",
       "  <thead>\n",
       "    <tr style=\"text-align: right;\">\n",
       "      <th></th>\n",
       "      <th>ISBN</th>\n",
       "      <th>Book-Title</th>\n",
       "      <th>Book-Author</th>\n",
       "      <th>Year-Of-Publication</th>\n",
       "      <th>Publisher</th>\n",
       "      <th>Image-URL-S</th>\n",
       "      <th>Image-URL-M</th>\n",
       "      <th>Image-URL-L</th>\n",
       "    </tr>\n",
       "  </thead>\n",
       "  <tbody>\n",
       "    <tr>\n",
       "      <th>0</th>\n",
       "      <td>0195153448</td>\n",
       "      <td>Classical Mythology</td>\n",
       "      <td>Mark P. O. Morford</td>\n",
       "      <td>2002</td>\n",
       "      <td>Oxford University Press</td>\n",
       "      <td>http://images.amazon.com/images/P/0195153448.0...</td>\n",
       "      <td>http://images.amazon.com/images/P/0195153448.0...</td>\n",
       "      <td>http://images.amazon.com/images/P/0195153448.0...</td>\n",
       "    </tr>\n",
       "    <tr>\n",
       "      <th>1</th>\n",
       "      <td>0002005018</td>\n",
       "      <td>Clara Callan</td>\n",
       "      <td>Richard Bruce Wright</td>\n",
       "      <td>2001</td>\n",
       "      <td>HarperFlamingo Canada</td>\n",
       "      <td>http://images.amazon.com/images/P/0002005018.0...</td>\n",
       "      <td>http://images.amazon.com/images/P/0002005018.0...</td>\n",
       "      <td>http://images.amazon.com/images/P/0002005018.0...</td>\n",
       "    </tr>\n",
       "    <tr>\n",
       "      <th>2</th>\n",
       "      <td>0060973129</td>\n",
       "      <td>Decision in Normandy</td>\n",
       "      <td>Carlo D'Este</td>\n",
       "      <td>1991</td>\n",
       "      <td>HarperPerennial</td>\n",
       "      <td>http://images.amazon.com/images/P/0060973129.0...</td>\n",
       "      <td>http://images.amazon.com/images/P/0060973129.0...</td>\n",
       "      <td>http://images.amazon.com/images/P/0060973129.0...</td>\n",
       "    </tr>\n",
       "    <tr>\n",
       "      <th>3</th>\n",
       "      <td>0374157065</td>\n",
       "      <td>Flu: The Story of the Great Influenza Pandemic...</td>\n",
       "      <td>Gina Bari Kolata</td>\n",
       "      <td>1999</td>\n",
       "      <td>Farrar Straus Giroux</td>\n",
       "      <td>http://images.amazon.com/images/P/0374157065.0...</td>\n",
       "      <td>http://images.amazon.com/images/P/0374157065.0...</td>\n",
       "      <td>http://images.amazon.com/images/P/0374157065.0...</td>\n",
       "    </tr>\n",
       "    <tr>\n",
       "      <th>4</th>\n",
       "      <td>0393045218</td>\n",
       "      <td>The Mummies of Urumchi</td>\n",
       "      <td>E. J. W. Barber</td>\n",
       "      <td>1999</td>\n",
       "      <td>W. W. Norton &amp;amp; Company</td>\n",
       "      <td>http://images.amazon.com/images/P/0393045218.0...</td>\n",
       "      <td>http://images.amazon.com/images/P/0393045218.0...</td>\n",
       "      <td>http://images.amazon.com/images/P/0393045218.0...</td>\n",
       "    </tr>\n",
       "  </tbody>\n",
       "</table>\n",
       "</div>"
      ],
      "text/plain": [
       "         ISBN                                         Book-Title  \\\n",
       "0  0195153448                                Classical Mythology   \n",
       "1  0002005018                                       Clara Callan   \n",
       "2  0060973129                               Decision in Normandy   \n",
       "3  0374157065  Flu: The Story of the Great Influenza Pandemic...   \n",
       "4  0393045218                             The Mummies of Urumchi   \n",
       "\n",
       "            Book-Author Year-Of-Publication                   Publisher  \\\n",
       "0    Mark P. O. Morford                2002     Oxford University Press   \n",
       "1  Richard Bruce Wright                2001       HarperFlamingo Canada   \n",
       "2          Carlo D'Este                1991             HarperPerennial   \n",
       "3      Gina Bari Kolata                1999        Farrar Straus Giroux   \n",
       "4       E. J. W. Barber                1999  W. W. Norton &amp; Company   \n",
       "\n",
       "                                         Image-URL-S  \\\n",
       "0  http://images.amazon.com/images/P/0195153448.0...   \n",
       "1  http://images.amazon.com/images/P/0002005018.0...   \n",
       "2  http://images.amazon.com/images/P/0060973129.0...   \n",
       "3  http://images.amazon.com/images/P/0374157065.0...   \n",
       "4  http://images.amazon.com/images/P/0393045218.0...   \n",
       "\n",
       "                                         Image-URL-M  \\\n",
       "0  http://images.amazon.com/images/P/0195153448.0...   \n",
       "1  http://images.amazon.com/images/P/0002005018.0...   \n",
       "2  http://images.amazon.com/images/P/0060973129.0...   \n",
       "3  http://images.amazon.com/images/P/0374157065.0...   \n",
       "4  http://images.amazon.com/images/P/0393045218.0...   \n",
       "\n",
       "                                         Image-URL-L  \n",
       "0  http://images.amazon.com/images/P/0195153448.0...  \n",
       "1  http://images.amazon.com/images/P/0002005018.0...  \n",
       "2  http://images.amazon.com/images/P/0060973129.0...  \n",
       "3  http://images.amazon.com/images/P/0374157065.0...  \n",
       "4  http://images.amazon.com/images/P/0393045218.0...  "
      ]
     },
     "execution_count": 3,
     "metadata": {},
     "output_type": "execute_result"
    }
   ],
   "source": [
    "books.head()"
   ]
  },
  {
   "cell_type": "markdown",
   "id": "ca8ad311-4ebd-42e4-84ef-a0c940acec00",
   "metadata": {},
   "source": [
    "## ISBN \n",
    "<h3>ISBN Format Illustration</h3>\n",
    "<p>The parts of a 13-digit ISBN include (10-digit ISBN - prefix element is missing):</p>\n",
    "<ol>\n",
    "  <li><em>A prefix element</em> – a GS1 prefix: so far 978 or 979 have been made available by GS1.</li>\n",
    "  <li><em>The registration group element</em> – represents a language-sharing country group, individual country, or territory.</li>\n",
    "  <li><em>The registrant element</em> – identifies the specific publisher.</li>\n",
    "  <li><em>The publication element</em> – identifies the specific title or edition.</li>\n",
    "  <li><em>A checksum character</em> – a check digit used for error detection.</li>\n",
    "</ol>\n",
    "<img src=\"../figures/isbn_wiki.png\" alt=\"ISBN Structure\" width=\"200\">\n",
    "\n",
    "\n",
    "<p style=\"font-size:small;\">\n",
    "Source: <a href=\"https://en.wikipedia.org/wiki/ISBN\" target=\"_blank\">Wikipedia – ISBN</a>\n",
    "</p>\n",
    "\n",
    "\n",
    "<h3>Component Usefulness for Our Analysis</h3>\n",
    "\n",
    "<ol>\n",
    "  <li><em>Prefix element</em> – <strong>Not relevant</strong>, as it only applies to 13-digit ISBNs, which are not present in this dataset.</li>\n",
    "  <li><em>Registration group element (Group)</em> – <strong>Useful</strong>. Can help infer language or regional origin of the book or author.</li>\n",
    "  <li><em>Registrant element (Publisher)</em> – <strong>Not so useful</strong>. The dataset already includes a Publisher column, may offer value for validation.</li>\n",
    "  <li><em>Publication element (Title)</em> – <strong>Useful</strong>. Helps differentiate editions of the same book and is core to uniquely identifying a title.</li>\n",
    "  <li><em>Checksum character (Check digit)</em> – <strong>Not relevant</strong> for recommendation tasks. However, it’s <strong>useful</strong> for checking ISBN validity.</li>\n",
    "</ol>"
   ]
  },
  {
   "cell_type": "code",
   "execution_count": 4,
   "id": "27861e63-b922-4b53-8e6c-240bdb4dce04",
   "metadata": {},
   "outputs": [
    {
     "name": "stdout",
     "output_type": "stream",
     "text": [
      "isbn_length\n",
      "10    271356\n",
      "11         1\n",
      "13         3\n",
      "Name: count, dtype: int64\n"
     ]
    }
   ],
   "source": [
    "# Check length of each ISBN\n",
    "books['isbn_length'] = books['ISBN'].astype(str).str.len()\n",
    "print(books['isbn_length'].value_counts().sort_index())"
   ]
  },
  {
   "cell_type": "code",
   "execution_count": 5,
   "id": "a6911c9c-7fc6-44af-ab43-1c6d631e912b",
   "metadata": {},
   "outputs": [
    {
     "name": "stdout",
     "output_type": "stream",
     "text": [
      "                 ISBN  isbn_length  \\\n",
      "111808   0486404242\\t           11   \n",
      "171206  3518365479<90           13   \n",
      "251424  3442248027  3           13   \n",
      "251649  0385722206  0           13   \n",
      "\n",
      "                                               Book-Title  \n",
      "111808  War in Kind: And Other Poems (Dover Thrift Edi...  \n",
      "171206            Suhrkamp TaschenbÃ?Â¼cher, Nr.47, Frost  \n",
      "251424                        Diamond Age. Die Grenzwelt.  \n",
      "251649  Balzac and the Little Chinese Seamstress : A N...  \n"
     ]
    }
   ],
   "source": [
    "# Filter ISBNs with length 11 or 13\n",
    "nonstandard_isbns = books[books['isbn_length'].isin([11, 13])]\n",
    "print(nonstandard_isbns[['ISBN', 'isbn_length', 'Book-Title']])\n",
    "books = books.drop(nonstandard_isbns.index)"
   ]
  },
  {
   "cell_type": "markdown",
   "id": "10079de5-d97f-43c0-9d84-23c61ffa623a",
   "metadata": {},
   "source": [
    "#### ISBN mostly with length 10\n",
    "Only 4 ISBNs have a nonstandard length — likely due to typos such as slashes, angle brackets, or extra spaces. These can be manually corrected, removed, or retained with a warning flag depending on downstream needs."
   ]
  },
  {
   "cell_type": "code",
   "execution_count": 6,
   "id": "e26d6530-bc2e-4142-9907-dfb9fa51c960",
   "metadata": {},
   "outputs": [
    {
     "name": "stdout",
     "output_type": "stream",
     "text": [
      "isbn_is_numeric\n",
      "True     249026\n",
      "False     22330\n",
      "Name: count, dtype: int64\n",
      "           ISBN                                         Book-Title\n",
      "9    074322678X            Where You'll Find Me: And Other Stories\n",
      "11   080652121X  Hitler's Secret Bankers: The Myth of Swiss Neu...\n",
      "40   038078243X                   Miss Zukas and the Raven's Dance\n",
      "41   055321215X                                Pride and Prejudice\n",
      "42   067176537X  The Therapeutic Touch: How to Use Your Hands t...\n",
      "48   042518630X                                    Purity in Death\n",
      "66   042511774X                                  Breathing Lessons\n",
      "82   087113375X  Modern Manners: An Etiquette Book for Rude People\n",
      "105  067976397X                       Corelli's Mandolin : A Novel\n",
      "139  038572179X                                Atonement : A Novel\n"
     ]
    }
   ],
   "source": [
    "# Ensure ISBN is treated as a clean string\n",
    "books['ISBN_str'] = books['ISBN'].astype(str).str.strip()\n",
    "\n",
    "# Check if ISBN is composed only of digits\n",
    "books['isbn_is_numeric'] = books['ISBN_str'].str.match(r'^\\d+$')\n",
    "\n",
    "# Count how many are numeric vs non-numeric\n",
    "print(books['isbn_is_numeric'].value_counts())\n",
    "\n",
    "# Display the non-numeric ones\n",
    "non_numeric_isbns = books[~books['isbn_is_numeric']]\n",
    "print(non_numeric_isbns[['ISBN', 'Book-Title']].head(10))\n"
   ]
  },
  {
   "cell_type": "markdown",
   "id": "0a8332b8-c33f-401c-a7ab-971441160d3a",
   "metadata": {},
   "source": [
    "#### Check Digit Validity: Why ‘X’ at the End Is Not a Mistake\n",
    "\n",
    "\"In the case of the check digit, the last digit of the ISBN, the upper case X can appear. The method of determining the check digit for the ISBN is the modulus 11 with the weighting factors 10 to 1. The Roman numeral X is used in lieu of 10 where ten would occur as a check digit.\"\n",
    "\n",
    "<p style=\"font-size:small;\">\n",
    "Source: <a href=\"https://www.isbn.org/faqs_general_questions#:~:text=The%20method%20of%20determining%20the,occur%20as%20a%20check%20digit.\" target=\"_blank\">ISBN - FAQ</a>\n",
    "</p>"
   ]
  },
  {
   "cell_type": "code",
   "execution_count": 7,
   "id": "f8f1f172-720c-4b8d-86fc-944892c0367f",
   "metadata": {},
   "outputs": [
    {
     "name": "stdout",
     "output_type": "stream",
     "text": [
      "Numeric ISBNs: 249026\n",
      "ISBNs ending with X: 22216\n",
      "Invalid ISBNs: 114\n",
      "             ISBN                                         Book-Title\n",
      "6291   B00009ANY9                                         Cane River\n",
      "10272  B0000A2U93                                           Carmilla\n",
      "11185  B0000633PU        The Story of Aladdin and the Wonderful Lamp\n",
      "13862  B00007FYKO  Bloodcurdling Tales of Horror and the Macabre:...\n",
      "13865  B00009APKU                                          Moby Dick\n",
      "15815  B00008NRHQ                                   Mystic Rose, The\n",
      "16101  B0000DAPP1  Discover Your Genius: How to Think Like Histor...\n",
      "26220  B000069F44                               The Lady in the Lake\n",
      "26228  B00005NCS7                              Moonlight Becomes You\n",
      "28297  B00007MAM9                                      The Green Ray\n"
     ]
    }
   ],
   "source": [
    "# ISBNs including X at the end\n",
    "books['isbn_ends_with_x'] = books['ISBN_str'].str.match(r'^\\d{9}[Xx]$')\n",
    "\n",
    "# Match completely numeric ISBNs (valid)\n",
    "books['isbn_is_numeric'] = books['ISBN_str'].str.match(r'^\\d+$')\n",
    "\n",
    "# Flag invalid ISBNs: not numeric and not ending with X\n",
    "books['isbn_invalid'] = ~(books['isbn_is_numeric'] | books['isbn_ends_with_x'])\n",
    "\n",
    "# Count the groups\n",
    "print(\"Numeric ISBNs:\", books['isbn_is_numeric'].sum())\n",
    "print(\"ISBNs ending with X:\", books['isbn_ends_with_x'].sum())\n",
    "print(\"Invalid ISBNs:\", books['isbn_invalid'].sum())\n",
    "\n",
    "# Display some invalid ones\n",
    "invalid_isbns = books[books['isbn_invalid']]\n",
    "print(invalid_isbns[['ISBN', 'Book-Title']].head(10))\n"
   ]
  },
  {
   "cell_type": "markdown",
   "id": "6cd8ee3a-27e7-45af-bd0d-5304d33647d9",
   "metadata": {},
   "source": [
    "#### B00009ANY9, B0000A2U93, B0000633PU - likely different (Non-ISBN) identifiers\n",
    "\n",
    "ChatGPT: It looks like Amazon Standard Identification Number (ASIN)\n",
    "\n",
    "The ASIN is a ten-digit alphanumeric product identification number assigned to each product once it is uploaded and listed for sale on Amazon. It serves as a unique product identifier, similar to the ISBN for books, but without international standardization. Amazon uses ASINs to identify, catalog, and sort products. Here's an example ASIN: B07PY42BRC.\n",
    "\n",
    "<p style=\"font-size:small;\">\n",
    "Source: <a href=\"https://www.amalytix.com/en/knowledge/controlling/amazon-standard-identification-number-asin/\" target=\"_blank\">Amalytix – ASIN</a>\n",
    "</p>\n"
   ]
  },
  {
   "cell_type": "code",
   "execution_count": 8,
   "id": "9a4313d9-eda9-49af-8e65-632673014325",
   "metadata": {
    "scrolled": true
   },
   "outputs": [
    {
     "name": "stdout",
     "output_type": "stream",
     "text": [
      "Numeric ISBNs: 249026\n",
      "ISBNs ending with X: 22216\n",
      "Likely ASINs: 114\n",
      "Other Invalid ISBNs: 0\n"
     ]
    }
   ],
   "source": [
    "# Identify potential ASINs (common pattern: starts with 'B' or 'b')\n",
    "books['isbn_is_asin'] = books['ISBN_str'].str.match(r'^[Bb].*$') \n",
    "\n",
    "# Everything else that's invalid and not ASIN is considered 'other invalid'\n",
    "books['isbn_invalid_other'] = books['isbn_invalid'] & ~books['isbn_is_asin']\n",
    "\n",
    "# Summary of all groups\n",
    "print(\"Numeric ISBNs:\", books['isbn_is_numeric'].sum())\n",
    "print(\"ISBNs ending with X:\", books['isbn_ends_with_x'].sum())\n",
    "print(\"Likely ASINs:\", books['isbn_is_asin'].sum())\n",
    "print(\"Other Invalid ISBNs:\", books['isbn_invalid_other'].sum())"
   ]
  },
  {
   "cell_type": "markdown",
   "id": "54b45ea8-4718-46d5-8f84-62b842b689a8",
   "metadata": {},
   "source": [
    "#### Validate checksum for numeric ISBNs and those ending in X\n",
    "According to the 2001 edition of the International ISBN Agency's official user manual, the ISBN-10 check digit (which is the last digit of the 10-digit ISBN) must range from 0 to 10 (the symbol 'X' is used for 10), and must be such that the sum of the ten digits, each multiplied by its (integer) weight, descending from 10 to 1, is a multiple of 11.\n",
    "That is, if <i>x<sub>i</sub></i> is the <i>i<sup>th</sup></i> digit, then <i>x<sub>10</sub></i> must be chosen such that:\n",
    "\n",
    "<p style=\"text-align: center;\"> ∑<sub>i=1</sub><sup>10</sup> (11 − i) · x<sub>i</sub> ≡ 0 (mod 11) </p>\n",
    "<p style=\"font-size:small;\"> Source: <a href=\"https://en.wikipedia.org/wiki/ISBN#ISBN-10_check_digits\" target=\"_blank\">Wikipedia – ISBN-10 Check Digits</a> </p>\n"
   ]
  },
  {
   "cell_type": "code",
   "execution_count": 9,
   "id": "85999c19-e12e-4e9b-ae29-a5136c223e83",
   "metadata": {},
   "outputs": [
    {
     "name": "stdout",
     "output_type": "stream",
     "text": [
      "Valid ISBN-10 checksums: 249026\n",
      "Invalid ISBN-10 checksums: 0\n"
     ]
    }
   ],
   "source": [
    "# Keep only valid numeric 10-digit ISBNs\n",
    "num_isbn10 = books[books['isbn_is_numeric']].copy()  # make a safe copy\n",
    "num_isbn10['ISBN_str'] = num_isbn10['ISBN'].astype(str)\n",
    "\n",
    "# Compute checksum using ISBN-10 formula:\n",
    "# ∑(digit × weight) where weights go from 10 to 1\n",
    "def isbn10_checksum(isbn):\n",
    "    total = sum((10 - i) * int(d) for i, d in enumerate(isbn))\n",
    "    return total % 11 == 0\n",
    "\n",
    "# Apply checksum\n",
    "num_isbn10['checksum_num'] = num_isbn10['ISBN_str'].apply(isbn10_checksum)\n",
    "\n",
    "# Summary\n",
    "print(\"Valid ISBN-10 checksums:\", num_isbn10['checksum_num'].sum())\n",
    "print(\"Invalid ISBN-10 checksums:\", (~num_isbn10['checksum_num']).sum())\n"
   ]
  },
  {
   "cell_type": "code",
   "execution_count": 10,
   "id": "464bcf9d-de89-45c5-9658-468932dc08f8",
   "metadata": {},
   "outputs": [
    {
     "name": "stdout",
     "output_type": "stream",
     "text": [
      "Valid ISBN-10 checksums: 22216\n",
      "Invalid ISBN-10 checksums: 0\n"
     ]
    }
   ],
   "source": [
    "# ISBNs ending with X or x\n",
    "isbn_with_x = books[books['isbn_ends_with_x']].copy()  # keep rows where this is True\n",
    "\n",
    "isbn_with_x['ISBN_str'] = isbn_with_x['ISBN'].astype(str)\n",
    "\n",
    "def isbn10_x_checksum(isbn):\n",
    "    total = sum((10 - i) * (10 if d in ['X', 'x'] else int(d)) for i, d in enumerate(isbn))\n",
    "    return total % 11 == 0\n",
    "\n",
    "# Apply checksum\n",
    "isbn_with_x['checksum_x'] = isbn_with_x['ISBN_str'].apply(isbn10_x_checksum)\n",
    "\n",
    "# Summary\n",
    "print(\"Valid ISBN-10 checksums:\", isbn_with_x['checksum_x'].sum())\n",
    "print(\"Invalid ISBN-10 checksums:\", (~isbn_with_x['checksum_x']).sum())"
   ]
  },
  {
   "cell_type": "markdown",
   "id": "ca8946a3-f970-47da-8049-0ab7501ce028",
   "metadata": {},
   "source": [
    "#### All valid-format ISBN-10 entries passed the checksum validation.\n"
   ]
  },
  {
   "cell_type": "code",
   "execution_count": 11,
   "id": "4ae24229-0b34-4142-a570-de183db99bf3",
   "metadata": {},
   "outputs": [
    {
     "name": "stdout",
     "output_type": "stream",
     "text": [
      "Total rows in books: 271356\n",
      "Unique ISBNs: 271356\n"
     ]
    }
   ],
   "source": [
    "# Total number of ISBNs\n",
    "total_isbns = books['ISBN'].nunique()\n",
    "total_rows = len(books)\n",
    "\n",
    "print(f\"Total rows in books: {total_rows}\")\n",
    "print(f\"Unique ISBNs: {total_isbns}\")"
   ]
  },
  {
   "cell_type": "markdown",
   "id": "574cd766-bc44-4387-987c-7495acccf8eb",
   "metadata": {},
   "source": [
    "#### ISBN as a Unique Identifier\n",
    "\n",
    "We verified that each ISBN in the `books` table is unique, indicating that the column can function as a primary key for the dataset.\n"
   ]
  },
  {
   "cell_type": "markdown",
   "id": "304ebdac-7ce4-4c8f-a279-b326098745f1",
   "metadata": {},
   "source": [
    "## Book-Title \n",
    "Although .info() shows no null entries, we manually check for other forms of missing or low-quality titles"
   ]
  },
  {
   "cell_type": "code",
   "execution_count": 12,
   "id": "22b49b03-a8f6-4bb1-b3db-25ee7ead0228",
   "metadata": {},
   "outputs": [
    {
     "name": "stdout",
     "output_type": "stream",
     "text": [
      "Suspicious or placeholder titles: 2\n"
     ]
    },
    {
     "data": {
      "text/html": [
       "<div>\n",
       "<style scoped>\n",
       "    .dataframe tbody tr th:only-of-type {\n",
       "        vertical-align: middle;\n",
       "    }\n",
       "\n",
       "    .dataframe tbody tr th {\n",
       "        vertical-align: top;\n",
       "    }\n",
       "\n",
       "    .dataframe thead th {\n",
       "        text-align: right;\n",
       "    }\n",
       "</style>\n",
       "<table border=\"1\" class=\"dataframe\">\n",
       "  <thead>\n",
       "    <tr style=\"text-align: right;\">\n",
       "      <th></th>\n",
       "      <th>ISBN</th>\n",
       "      <th>Book-Title</th>\n",
       "      <th>Book-Author</th>\n",
       "    </tr>\n",
       "  </thead>\n",
       "  <tbody>\n",
       "    <tr>\n",
       "      <th>38603</th>\n",
       "      <td>0747275637</td>\n",
       "      <td>Untitled</td>\n",
       "      <td>Bill Napier</td>\n",
       "    </tr>\n",
       "    <tr>\n",
       "      <th>256455</th>\n",
       "      <td>0434008788</td>\n",
       "      <td>Untitled</td>\n",
       "      <td>Neal Stephenson</td>\n",
       "    </tr>\n",
       "  </tbody>\n",
       "</table>\n",
       "</div>"
      ],
      "text/plain": [
       "              ISBN Book-Title      Book-Author\n",
       "38603   0747275637   Untitled      Bill Napier\n",
       "256455  0434008788   Untitled  Neal Stephenson"
      ]
     },
     "metadata": {},
     "output_type": "display_data"
    }
   ],
   "source": [
    "# Convert Book-Title to string and lowercase\n",
    "title_cleaned = books['Book-Title'].astype(str).str.strip().str.lower()\n",
    "\n",
    "# Define suspicious placeholder values\n",
    "suspicious_titles = {'', 'nan', 'unknown', 'none', 'untitled', 'no title', 'na'}\n",
    "\n",
    "# Boolean mask for suspicious titles\n",
    "suspicious_mask = title_cleaned.isin(suspicious_titles)\n",
    "\n",
    "# Count and display the results\n",
    "print(\"Suspicious or placeholder titles:\", suspicious_mask.sum())\n",
    "display(books[suspicious_mask][['ISBN', 'Book-Title', 'Book-Author']].head(10))\n"
   ]
  },
  {
   "cell_type": "code",
   "execution_count": 13,
   "id": "1eddf0a3-c107-41cb-9ffa-670c0b2dc1b6",
   "metadata": {},
   "outputs": [
    {
     "data": {
      "text/plain": [
       "176510             Polaris and Other Stories (King Penguin)\n",
       "130411    The Cambridge Companion to Old English Literat...\n",
       "38349     Good Night, Little Grover (Sesame Street Muppe...\n",
       "78396     Cracking the Da Vinci Code : The Unauthorized ...\n",
       "230035               Immortality Funerary Rites and Customs\n",
       "157920                             The Works of Oscar Wilde\n",
       "162557                          LeTour du Monde en 80 Jours\n",
       "264538                          Death in the Dark Continent\n",
       "109007                                     Paul J. Stankard\n",
       "178661    The Fisherman's Little Instruction Book (Littl...\n",
       "Name: Book-Title, dtype: object"
      ]
     },
     "execution_count": 13,
     "metadata": {},
     "output_type": "execute_result"
    }
   ],
   "source": [
    "books['Book-Title'].sample(10, random_state=36)"
   ]
  },
  {
   "cell_type": "markdown",
   "id": "a41427e1-710e-4270-b2c9-294c4ccf7062",
   "metadata": {},
   "source": [
    "### Lord of The Rings"
   ]
  },
  {
   "cell_type": "code",
   "execution_count": 14,
   "id": "b2871068-8ca5-4699-8ef8-4672d4c0a53e",
   "metadata": {},
   "outputs": [
    {
     "name": "stdout",
     "output_type": "stream",
     "text": [
      "                                              Book-Title       Book-Author\n",
      "91     El Senor De Los Anillos: LA Comunidad Del Anil...  J. R. R. Tolkien\n",
      "92     El Senor De Los Anillos: Las DOS Torres (Lord ...  J. R. R. Tolkien\n",
      "93     El Senor De Los Anillos: El Retorno Del Rey (T...  J. R. R. Tolkien\n",
      "780       The Two Towers (The Lord of the Rings, Part 2)    J.R.R. TOLKIEN\n",
      "1571   The Fellowship of the Ring (The Lord of the Ri...    J.R.R. TOLKIEN\n",
      "3354   The Hobbit : The Enchanting Prelude to The Lor...    J.R.R. TOLKIEN\n",
      "4206   The Return of the King (The Lord of the Rings,...    J.R.R. TOLKIEN\n",
      "4514   The Fellowship of the Ring (Lord of the Rings ...  J. R. R. Tolkien\n",
      "6060             The Lord of the Rings (Movie Art Cover)    J.R.R. Tolkien\n",
      "6866                The Hobbit and The Lord of the Rings    J.R.R. TOLKIEN\n",
      "11083            The Lord of the Rings (Movie Art Cover)  J. R. R. Tolkien\n",
      "12761  The Return of the King (The Lord of The Rings,...  J. R. R. Tolkien\n",
      "12762     The Two Towers (The Lord of the Rings, Part 2)  J. R. R. Tolkien\n",
      "12763  The Fellowship of the Ring (The Lord of the Ri...  J. R. R. Tolkien\n",
      "13636    The Magical Worlds of the \\Lord of the Rings\\\"\"     David Colbert\n",
      "15218  The Lord of the Rings (Leatherette Collector's...  J. R. R. Tolkien\n",
      "15917  The Fellowship of the Ring (The Lord of the Ri...  J. R. R. Tolkien\n",
      "16340  The Fellowship of the Ring (Lord of the Rings ...  J. R. R. Tolkien\n",
      "21490                              The Lord of the Rings  J. R. R. Tolkien\n",
      "26488      El Senor De Los Anillos/the Lord of the Rings  J. R. R. Tolkien\n"
     ]
    }
   ],
   "source": [
    "# Convert to lowercase for case-insensitive match\n",
    "matches = books[books['Book-Title'].str.lower().str.contains(\"lord of the rings\", na=False)]\n",
    "\n",
    "# Display matching books\n",
    "print(matches[['Book-Title', 'Book-Author']].head(20))\n"
   ]
  },
  {
   "cell_type": "markdown",
   "id": "92904830-6a3c-4618-9a79-2fa00b637e24",
   "metadata": {},
   "source": [
    "#### Various book editions in various languages\n",
    "“Lord of the Rings” and other books or series may appear in multiple times in different naming formats."
   ]
  },
  {
   "cell_type": "markdown",
   "id": "e0a9336d-cb7a-4df3-b059-6a47866c588a",
   "metadata": {},
   "source": [
    "## Book-Author\n",
    "Two Null Entries due .info()"
   ]
  },
  {
   "cell_type": "code",
   "execution_count": 15,
   "id": "f5ba0705-cb0b-4922-9046-686a03d48911",
   "metadata": {},
   "outputs": [
    {
     "name": "stdout",
     "output_type": "stream",
     "text": [
      "Problematic Book-Author entries at least: 55\n"
     ]
    },
    {
     "data": {
      "text/html": [
       "<div>\n",
       "<style scoped>\n",
       "    .dataframe tbody tr th:only-of-type {\n",
       "        vertical-align: middle;\n",
       "    }\n",
       "\n",
       "    .dataframe tbody tr th {\n",
       "        vertical-align: top;\n",
       "    }\n",
       "\n",
       "    .dataframe thead th {\n",
       "        text-align: right;\n",
       "    }\n",
       "</style>\n",
       "<table border=\"1\" class=\"dataframe\">\n",
       "  <thead>\n",
       "    <tr style=\"text-align: right;\">\n",
       "      <th></th>\n",
       "      <th>ISBN</th>\n",
       "      <th>Book-Title</th>\n",
       "      <th>Book-Author</th>\n",
       "    </tr>\n",
       "  </thead>\n",
       "  <tbody>\n",
       "    <tr>\n",
       "      <th>15246</th>\n",
       "      <td>0380804174</td>\n",
       "      <td>Elizabeth</td>\n",
       "      <td>Unknown</td>\n",
       "    </tr>\n",
       "    <tr>\n",
       "      <th>23866</th>\n",
       "      <td>0671456393</td>\n",
       "      <td>PICK UP STICKS</td>\n",
       "      <td>Unknown</td>\n",
       "    </tr>\n",
       "    <tr>\n",
       "      <th>43834</th>\n",
       "      <td>8430575456</td>\n",
       "      <td>Cocina Para Ninos</td>\n",
       "      <td>Unk</td>\n",
       "    </tr>\n",
       "    <tr>\n",
       "      <th>44868</th>\n",
       "      <td>0920269028</td>\n",
       "      <td>Stitch by Stitch: A Home Library of Sewing, Kn...</td>\n",
       "      <td>Unknown</td>\n",
       "    </tr>\n",
       "    <tr>\n",
       "      <th>46512</th>\n",
       "      <td>0134681584</td>\n",
       "      <td>San Francisco (Insight Guide San Francisco)</td>\n",
       "      <td>Unknown</td>\n",
       "    </tr>\n",
       "    <tr>\n",
       "      <th>59372</th>\n",
       "      <td>0671826859</td>\n",
       "      <td>GHOST STY</td>\n",
       "      <td>Unknown</td>\n",
       "    </tr>\n",
       "    <tr>\n",
       "      <th>61904</th>\n",
       "      <td>0671836056</td>\n",
       "      <td>NIGHTWAY</td>\n",
       "      <td>Unknown</td>\n",
       "    </tr>\n",
       "    <tr>\n",
       "      <th>62721</th>\n",
       "      <td>0671451162</td>\n",
       "      <td>NEW TERRORS      1</td>\n",
       "      <td>Unknown</td>\n",
       "    </tr>\n",
       "    <tr>\n",
       "      <th>65456</th>\n",
       "      <td>0671494260</td>\n",
       "      <td>GENTLE FURY</td>\n",
       "      <td>Unknown</td>\n",
       "    </tr>\n",
       "    <tr>\n",
       "      <th>76349</th>\n",
       "      <td>0671472321</td>\n",
       "      <td>STAR TRK WRTH KHAN</td>\n",
       "      <td>Unknown</td>\n",
       "    </tr>\n",
       "  </tbody>\n",
       "</table>\n",
       "</div>"
      ],
      "text/plain": [
       "             ISBN                                         Book-Title  \\\n",
       "15246  0380804174                                          Elizabeth   \n",
       "23866  0671456393                                     PICK UP STICKS   \n",
       "43834  8430575456                                  Cocina Para Ninos   \n",
       "44868  0920269028  Stitch by Stitch: A Home Library of Sewing, Kn...   \n",
       "46512  0134681584        San Francisco (Insight Guide San Francisco)   \n",
       "59372  0671826859                                          GHOST STY   \n",
       "61904  0671836056                                           NIGHTWAY   \n",
       "62721  0671451162                                 NEW TERRORS      1   \n",
       "65456  0671494260                                        GENTLE FURY   \n",
       "76349  0671472321                                 STAR TRK WRTH KHAN   \n",
       "\n",
       "      Book-Author  \n",
       "15246     Unknown  \n",
       "23866     Unknown  \n",
       "43834         Unk  \n",
       "44868     Unknown  \n",
       "46512     Unknown  \n",
       "59372     Unknown  \n",
       "61904     Unknown  \n",
       "62721     Unknown  \n",
       "65456     Unknown  \n",
       "76349     Unknown  "
      ]
     },
     "execution_count": 15,
     "metadata": {},
     "output_type": "execute_result"
    }
   ],
   "source": [
    "# Normalize and check for problematic author entries\n",
    "placeholder_authors = ['nan', 'unknown', 'unk', 'n/a', 'none', 'na']\n",
    "\n",
    "# Convert to lowercase, strip whitespace\n",
    "author_cleaned = books['Book-Author'].astype(str).str.strip().str.lower()\n",
    "\n",
    "# Create mask for problematic authors\n",
    "invalid_author_mask = (\n",
    "    books['Book-Author'].isna() |  # actual NaN\n",
    "    (author_cleaned == \"\") |       # empty string\n",
    "    author_cleaned.isin(placeholder_authors)\n",
    ")\n",
    "\n",
    "# Count and show the problematic rows\n",
    "print(\"Problematic Book-Author entries at least:\", invalid_author_mask.sum())\n",
    "books.loc[invalid_author_mask, ['ISBN', 'Book-Title', 'Book-Author']].head(10)\n"
   ]
  },
  {
   "cell_type": "markdown",
   "id": "3ef093cc-0608-4adc-812f-8542a13008c2",
   "metadata": {},
   "source": [
    "## Year of Publication\n",
    "Although there are no null entries, some values can be invalid (not numeric, not realistic year).  \n"
   ]
  },
  {
   "cell_type": "code",
   "execution_count": 16,
   "id": "18938a9b-56cf-4e5b-ba86-6ffb458d3abc",
   "metadata": {},
   "outputs": [
    {
     "name": "stdout",
     "output_type": "stream",
     "text": [
      "Numeric values: 271353\n",
      "Non-numeric values: 3\n"
     ]
    },
    {
     "data": {
      "text/html": [
       "<div>\n",
       "<style scoped>\n",
       "    .dataframe tbody tr th:only-of-type {\n",
       "        vertical-align: middle;\n",
       "    }\n",
       "\n",
       "    .dataframe tbody tr th {\n",
       "        vertical-align: top;\n",
       "    }\n",
       "\n",
       "    .dataframe thead th {\n",
       "        text-align: right;\n",
       "    }\n",
       "</style>\n",
       "<table border=\"1\" class=\"dataframe\">\n",
       "  <thead>\n",
       "    <tr style=\"text-align: right;\">\n",
       "      <th></th>\n",
       "      <th>ISBN</th>\n",
       "      <th>Book-Title</th>\n",
       "      <th>Book-Author</th>\n",
       "      <th>Year-Of-Publication</th>\n",
       "      <th>Publisher</th>\n",
       "      <th>Image-URL-S</th>\n",
       "      <th>Image-URL-M</th>\n",
       "      <th>Image-URL-L</th>\n",
       "      <th>isbn_length</th>\n",
       "      <th>ISBN_str</th>\n",
       "      <th>isbn_is_numeric</th>\n",
       "      <th>isbn_ends_with_x</th>\n",
       "      <th>isbn_invalid</th>\n",
       "      <th>isbn_is_asin</th>\n",
       "      <th>isbn_invalid_other</th>\n",
       "      <th>year_is_numeric</th>\n",
       "    </tr>\n",
       "  </thead>\n",
       "  <tbody>\n",
       "    <tr>\n",
       "      <th>209538</th>\n",
       "      <td>078946697X</td>\n",
       "      <td>DK Readers: Creating the X-Men, How It All Beg...</td>\n",
       "      <td>2000</td>\n",
       "      <td>DK Publishing Inc</td>\n",
       "      <td>http://images.amazon.com/images/P/078946697X.0...</td>\n",
       "      <td>http://images.amazon.com/images/P/078946697X.0...</td>\n",
       "      <td>http://images.amazon.com/images/P/078946697X.0...</td>\n",
       "      <td>NaN</td>\n",
       "      <td>10</td>\n",
       "      <td>078946697X</td>\n",
       "      <td>False</td>\n",
       "      <td>True</td>\n",
       "      <td>False</td>\n",
       "      <td>False</td>\n",
       "      <td>False</td>\n",
       "      <td>False</td>\n",
       "    </tr>\n",
       "    <tr>\n",
       "      <th>220731</th>\n",
       "      <td>2070426769</td>\n",
       "      <td>Peuple du ciel, suivi de 'Les Bergers\\\";Jean-M...</td>\n",
       "      <td>2003</td>\n",
       "      <td>Gallimard</td>\n",
       "      <td>http://images.amazon.com/images/P/2070426769.0...</td>\n",
       "      <td>http://images.amazon.com/images/P/2070426769.0...</td>\n",
       "      <td>http://images.amazon.com/images/P/2070426769.0...</td>\n",
       "      <td>NaN</td>\n",
       "      <td>10</td>\n",
       "      <td>2070426769</td>\n",
       "      <td>True</td>\n",
       "      <td>False</td>\n",
       "      <td>False</td>\n",
       "      <td>False</td>\n",
       "      <td>False</td>\n",
       "      <td>False</td>\n",
       "    </tr>\n",
       "    <tr>\n",
       "      <th>221678</th>\n",
       "      <td>0789466953</td>\n",
       "      <td>DK Readers: Creating the X-Men, How Comic Book...</td>\n",
       "      <td>2000</td>\n",
       "      <td>DK Publishing Inc</td>\n",
       "      <td>http://images.amazon.com/images/P/0789466953.0...</td>\n",
       "      <td>http://images.amazon.com/images/P/0789466953.0...</td>\n",
       "      <td>http://images.amazon.com/images/P/0789466953.0...</td>\n",
       "      <td>NaN</td>\n",
       "      <td>10</td>\n",
       "      <td>0789466953</td>\n",
       "      <td>True</td>\n",
       "      <td>False</td>\n",
       "      <td>False</td>\n",
       "      <td>False</td>\n",
       "      <td>False</td>\n",
       "      <td>False</td>\n",
       "    </tr>\n",
       "  </tbody>\n",
       "</table>\n",
       "</div>"
      ],
      "text/plain": [
       "              ISBN                                         Book-Title  \\\n",
       "209538  078946697X  DK Readers: Creating the X-Men, How It All Beg...   \n",
       "220731  2070426769  Peuple du ciel, suivi de 'Les Bergers\\\";Jean-M...   \n",
       "221678  0789466953  DK Readers: Creating the X-Men, How Comic Book...   \n",
       "\n",
       "       Book-Author Year-Of-Publication  \\\n",
       "209538        2000   DK Publishing Inc   \n",
       "220731        2003           Gallimard   \n",
       "221678        2000   DK Publishing Inc   \n",
       "\n",
       "                                                Publisher  \\\n",
       "209538  http://images.amazon.com/images/P/078946697X.0...   \n",
       "220731  http://images.amazon.com/images/P/2070426769.0...   \n",
       "221678  http://images.amazon.com/images/P/0789466953.0...   \n",
       "\n",
       "                                              Image-URL-S  \\\n",
       "209538  http://images.amazon.com/images/P/078946697X.0...   \n",
       "220731  http://images.amazon.com/images/P/2070426769.0...   \n",
       "221678  http://images.amazon.com/images/P/0789466953.0...   \n",
       "\n",
       "                                              Image-URL-M Image-URL-L  \\\n",
       "209538  http://images.amazon.com/images/P/078946697X.0...         NaN   \n",
       "220731  http://images.amazon.com/images/P/2070426769.0...         NaN   \n",
       "221678  http://images.amazon.com/images/P/0789466953.0...         NaN   \n",
       "\n",
       "        isbn_length    ISBN_str  isbn_is_numeric  isbn_ends_with_x  \\\n",
       "209538           10  078946697X            False              True   \n",
       "220731           10  2070426769             True             False   \n",
       "221678           10  0789466953             True             False   \n",
       "\n",
       "        isbn_invalid  isbn_is_asin  isbn_invalid_other  year_is_numeric  \n",
       "209538         False         False               False            False  \n",
       "220731         False         False               False            False  \n",
       "221678         False         False               False            False  "
      ]
     },
     "execution_count": 16,
     "metadata": {},
     "output_type": "execute_result"
    }
   ],
   "source": [
    "# Clean and normalize the 'Year-Of-Publication' column\n",
    "year_cleaned = books['Year-Of-Publication'].astype(str).str.strip()\n",
    "\n",
    "# Check if the year is composed of digits only\n",
    "books['year_is_numeric'] = year_cleaned.str.isdigit()\n",
    "\n",
    "# Summary counts\n",
    "print(\"Numeric values:\", books['year_is_numeric'].sum())\n",
    "print(\"Non-numeric values:\", (~books['year_is_numeric']).sum())\n",
    "\n",
    "# Show the non-numeric entries\n",
    "books[~books['year_is_numeric']].head(10)\n",
    "\n"
   ]
  },
  {
   "cell_type": "markdown",
   "id": "653326ae-9963-4d4a-b998-13b5258ca9ed",
   "metadata": {},
   "source": [
    "\n",
    "#### Column Misalignment Probably Due to Malformed CSV\n",
    "\n",
    "We identified **3 records** where columns appear **shifted** — values intended for one column (e.g., author or publisher) are misassigned due to what is likely a missing comma escape or improper quoting in the original CSV. Can be fixed manually."
   ]
  },
  {
   "cell_type": "code",
   "execution_count": 17,
   "id": "7e3f3a2b-1af4-4a98-a7c2-ad9de2e83682",
   "metadata": {},
   "outputs": [
    {
     "name": "stdout",
     "output_type": "stream",
     "text": [
      "Min Year: 0\n",
      "Max Year: 2050\n"
     ]
    }
   ],
   "source": [
    "# Clean and convert Year-Of-Publication\n",
    "books['Year-Of-Publication'] = books['Year-Of-Publication'].astype(str).str.strip()\n",
    "\n",
    "# Identify entries that are fully numeric (of any length)\n",
    "is_fully_numeric = books['Year-Of-Publication'].str.isdigit()\n",
    "\n",
    "# Convert those to integer\n",
    "numeric_years = books[is_fully_numeric].copy()\n",
    "numeric_years['Year-Of-Publication'] = numeric_years['Year-Of-Publication'].astype(int)\n",
    "\n",
    "# Explore extremes\n",
    "print(\"Min Year:\", numeric_years['Year-Of-Publication'].min())\n",
    "print(\"Max Year:\", numeric_years['Year-Of-Publication'].max())"
   ]
  },
  {
   "cell_type": "code",
   "execution_count": 18,
   "id": "626e5226-363b-44d9-b8de-c3cef4888419",
   "metadata": {},
   "outputs": [
    {
     "data": {
      "image/png": "[encoded data removed]",
      "text/plain": [
       "<Figure size 1400x1000 with 4 Axes>"
      ]
     },
     "metadata": {},
     "output_type": "display_data"
    }
   ],
   "source": [
    "import matplotlib.pyplot as plt\n",
    "import seaborn as sns\n",
    "\n",
    "# Ensure numeric publication years\n",
    "books['Year-Of-Publication'] = pd.to_numeric(books['Year-Of-Publication'], errors='coerce')\n",
    "numeric_years = books.dropna(subset=['Year-Of-Publication'])\n",
    "\n",
    "# Filter year ranges\n",
    "years_0_2050 = numeric_years[numeric_years['Year-Of-Publication'].between(0, 2050)]\n",
    "years_0_1950 = numeric_years[numeric_years['Year-Of-Publication'].between(0, 1950)]\n",
    "years_1950_2005 = numeric_years[numeric_years['Year-Of-Publication'].between(1950, 2005)]\n",
    "years_2000_2050 = numeric_years[numeric_years['Year-Of-Publication'].between(2000, 2050)]\n",
    "\n",
    "# Create 2x2 subplot grid\n",
    "fig, axes = plt.subplots(2, 2, figsize=(14, 10))\n",
    "\n",
    "# Plot 1: 0–2050\n",
    "sns.histplot(years_0_2050['Year-Of-Publication'], bins=50, kde=False,\n",
    "             color='steelblue', edgecolor='black', ax=axes[0, 0])\n",
    "axes[0, 0].set_title(\"Years 0–2050\")\n",
    "axes[0, 0].set_xlabel(\"Year\")\n",
    "axes[0, 0].set_ylabel(\"Number of Books\")\n",
    "axes[0, 0].grid(True, linestyle='--', alpha=0.5)\n",
    "\n",
    "# Plot 2: 0–1950\n",
    "sns.histplot(years_0_1950['Year-Of-Publication'], bins=50, kde=False,\n",
    "             color='steelblue', edgecolor='black', ax=axes[0, 1])\n",
    "axes[0, 1].set_title(\"Years 0–1950\")\n",
    "axes[0, 1].set_xlabel(\"Year\")\n",
    "axes[0, 1].set_ylabel(\"Number of Books\")\n",
    "axes[0, 1].grid(True, linestyle='--', alpha=0.5)\n",
    "\n",
    "# Plot 3: 1950–2005\n",
    "sns.histplot(years_1950_2005['Year-Of-Publication'], bins=50, kde=False,\n",
    "             color='steelblue', edgecolor='black', ax=axes[1, 0])\n",
    "axes[1, 0].set_title(\"Years 1950–2005\")\n",
    "axes[1, 0].set_xlabel(\"Year\")\n",
    "axes[1, 0].set_ylabel(\"Number of Books\")\n",
    "axes[1, 0].grid(True, linestyle='--', alpha=0.5)\n",
    "\n",
    "# Plot 4: 2000–2050\n",
    "sns.histplot(years_2000_2050['Year-Of-Publication'], bins=50, kde=False,\n",
    "             color='steelblue', edgecolor='black', ax=axes[1, 1])\n",
    "axes[1, 1].set_title(\"Years 2000–2050\")\n",
    "axes[1, 1].set_xlabel(\"Year\")\n",
    "axes[1, 1].set_ylabel(\"Number of Books\")\n",
    "axes[1, 1].grid(True, linestyle='--', alpha=0.5)\n",
    "\n",
    "# Final formatting\n",
    "fig.suptitle(\"Distribution of Book Publication Years\", fontsize=18)\n",
    "plt.tight_layout(rect=[0, 0, 1, 0.96])\n",
    "plt.show()"
   ]
  },
  {
   "cell_type": "markdown",
   "id": "a1b1b131-eaec-466e-bf76-64f5529f5546",
   "metadata": {},
   "source": [
    "#### Publication Year – Interpretation of Anomalies\n",
    "\n",
    "Based on the histogram and external dataset documentation, we can draw the following conclusions:\n",
    "\n",
    "- **Year 0** likely represents a **missing value placeholder** — it appears frequently and doesn't correspond to any plausible publication year.\n",
    "- **Years after 2025** are certainly **erroneous**, as we are currently in 2025.\n",
    "- Even **years after ~2005** seem suspect. From the histogram, there's a visible drop-off around 2004–2005.\n",
    "- This aligns with the **dataset's origin**, which was crawled in **August/September 2004**, according to the Kaggle source:\n",
    "\n",
    "> *“Collected by Cai-Nicolas Ziegler in a 4-week crawl (August / September 2004) from the Book-Crossing community…”*\n",
    "\n",
    "📎 **Source**: [Kaggle Dataset – Book Recommendation](https://www.kaggle.com/datasets/arashnic/book-recommendation-dataset?select=Ratings.csv)\n",
    "\n"
   ]
  },
  {
   "cell_type": "markdown",
   "id": "228bf6a6-8f09-4ae3-b9a3-b31a38cbd896",
   "metadata": {},
   "source": [
    "## Publisher"
   ]
  },
  {
   "cell_type": "code",
   "execution_count": 19,
   "id": "b05f0fa3-64a2-407c-b646-47be8e83b5e6",
   "metadata": {},
   "outputs": [
    {
     "name": "stdout",
     "output_type": "stream",
     "text": [
      "Number of books with missing Publisher: 2\n"
     ]
    },
    {
     "data": {
      "text/html": [
       "<div>\n",
       "<style scoped>\n",
       "    .dataframe tbody tr th:only-of-type {\n",
       "        vertical-align: middle;\n",
       "    }\n",
       "\n",
       "    .dataframe tbody tr th {\n",
       "        vertical-align: top;\n",
       "    }\n",
       "\n",
       "    .dataframe thead th {\n",
       "        text-align: right;\n",
       "    }\n",
       "</style>\n",
       "<table border=\"1\" class=\"dataframe\">\n",
       "  <thead>\n",
       "    <tr style=\"text-align: right;\">\n",
       "      <th></th>\n",
       "      <th>ISBN</th>\n",
       "      <th>Book-Title</th>\n",
       "      <th>Book-Author</th>\n",
       "      <th>Publisher</th>\n",
       "    </tr>\n",
       "  </thead>\n",
       "  <tbody>\n",
       "    <tr>\n",
       "      <th>128890</th>\n",
       "      <td>193169656X</td>\n",
       "      <td>Tyrant Moon</td>\n",
       "      <td>Elaine Corvidae</td>\n",
       "      <td>NaN</td>\n",
       "    </tr>\n",
       "    <tr>\n",
       "      <th>129037</th>\n",
       "      <td>1931696993</td>\n",
       "      <td>Finders Keepers</td>\n",
       "      <td>Linnea Sinclair</td>\n",
       "      <td>NaN</td>\n",
       "    </tr>\n",
       "  </tbody>\n",
       "</table>\n",
       "</div>"
      ],
      "text/plain": [
       "              ISBN       Book-Title      Book-Author Publisher\n",
       "128890  193169656X      Tyrant Moon  Elaine Corvidae       NaN\n",
       "129037  1931696993  Finders Keepers  Linnea Sinclair       NaN"
      ]
     },
     "metadata": {},
     "output_type": "display_data"
    }
   ],
   "source": [
    "# Show rows with null Publisher\n",
    "null_publishers = books[books['Publisher'].isnull()]\n",
    "print(f\"Number of books with missing Publisher: {len(null_publishers)}\")\n",
    "display(null_publishers[['ISBN', 'Book-Title', 'Book-Author', 'Publisher']].head())"
   ]
  },
  {
   "cell_type": "code",
   "execution_count": 20,
   "id": "159d6988-f80b-45fd-b323-6d68600c5184",
   "metadata": {},
   "outputs": [
    {
     "data": {
      "text/html": [
       "<div>\n",
       "<style scoped>\n",
       "    .dataframe tbody tr th:only-of-type {\n",
       "        vertical-align: middle;\n",
       "    }\n",
       "\n",
       "    .dataframe tbody tr th {\n",
       "        vertical-align: top;\n",
       "    }\n",
       "\n",
       "    .dataframe thead th {\n",
       "        text-align: right;\n",
       "    }\n",
       "</style>\n",
       "<table border=\"1\" class=\"dataframe\">\n",
       "  <thead>\n",
       "    <tr style=\"text-align: right;\">\n",
       "      <th></th>\n",
       "      <th>ISBN</th>\n",
       "      <th>Book-Title</th>\n",
       "      <th>Book-Author</th>\n",
       "      <th>Year-Of-Publication</th>\n",
       "      <th>Publisher</th>\n",
       "    </tr>\n",
       "  </thead>\n",
       "  <tbody>\n",
       "    <tr>\n",
       "      <th>209538</th>\n",
       "      <td>078946697X</td>\n",
       "      <td>DK Readers: Creating the X-Men, How It All Beg...</td>\n",
       "      <td>2000</td>\n",
       "      <td>NaN</td>\n",
       "      <td>http://images.amazon.com/images/P/078946697X.0...</td>\n",
       "    </tr>\n",
       "    <tr>\n",
       "      <th>220731</th>\n",
       "      <td>2070426769</td>\n",
       "      <td>Peuple du ciel, suivi de 'Les Bergers\\\";Jean-M...</td>\n",
       "      <td>2003</td>\n",
       "      <td>NaN</td>\n",
       "      <td>http://images.amazon.com/images/P/2070426769.0...</td>\n",
       "    </tr>\n",
       "    <tr>\n",
       "      <th>221678</th>\n",
       "      <td>0789466953</td>\n",
       "      <td>DK Readers: Creating the X-Men, How Comic Book...</td>\n",
       "      <td>2000</td>\n",
       "      <td>NaN</td>\n",
       "      <td>http://images.amazon.com/images/P/0789466953.0...</td>\n",
       "    </tr>\n",
       "  </tbody>\n",
       "</table>\n",
       "</div>"
      ],
      "text/plain": [
       "              ISBN                                         Book-Title  \\\n",
       "209538  078946697X  DK Readers: Creating the X-Men, How It All Beg...   \n",
       "220731  2070426769  Peuple du ciel, suivi de 'Les Bergers\\\";Jean-M...   \n",
       "221678  0789466953  DK Readers: Creating the X-Men, How Comic Book...   \n",
       "\n",
       "       Book-Author  Year-Of-Publication  \\\n",
       "209538        2000                  NaN   \n",
       "220731        2003                  NaN   \n",
       "221678        2000                  NaN   \n",
       "\n",
       "                                                Publisher  \n",
       "209538  http://images.amazon.com/images/P/078946697X.0...  \n",
       "220731  http://images.amazon.com/images/P/2070426769.0...  \n",
       "221678  http://images.amazon.com/images/P/0789466953.0...  "
      ]
     },
     "execution_count": 20,
     "metadata": {},
     "output_type": "execute_result"
    }
   ],
   "source": [
    "# Show the \"shifted\" indices\n",
    "books[~books['year_is_numeric']][['ISBN', 'Book-Title', 'Book-Author', 'Year-Of-Publication', 'Publisher']]\n"
   ]
  },
  {
   "cell_type": "code",
   "execution_count": 21,
   "id": "134eaf78-0cbf-43e3-ab61-8009f3a643f5",
   "metadata": {},
   "outputs": [
    {
     "data": {
      "text/html": [
       "<div>\n",
       "<style scoped>\n",
       "    .dataframe tbody tr th:only-of-type {\n",
       "        vertical-align: middle;\n",
       "    }\n",
       "\n",
       "    .dataframe tbody tr th {\n",
       "        vertical-align: top;\n",
       "    }\n",
       "\n",
       "    .dataframe thead th {\n",
       "        text-align: right;\n",
       "    }\n",
       "</style>\n",
       "<table border=\"1\" class=\"dataframe\">\n",
       "  <thead>\n",
       "    <tr style=\"text-align: right;\">\n",
       "      <th></th>\n",
       "      <th>Book-Title</th>\n",
       "      <th>Book-Author</th>\n",
       "      <th>Publisher</th>\n",
       "    </tr>\n",
       "  </thead>\n",
       "  <tbody>\n",
       "    <tr>\n",
       "      <th>135853</th>\n",
       "      <td>Bilbo's Last Song: (At the Grey Havens)</td>\n",
       "      <td>J. R. R. Tolkien</td>\n",
       "      <td>Alfred A. Knopf</td>\n",
       "    </tr>\n",
       "    <tr>\n",
       "      <th>39687</th>\n",
       "      <td>The Book of Lost Tales, Part 1 (The History of...</td>\n",
       "      <td>J. R. R. Tolkien</td>\n",
       "      <td>Allen &amp;amp; Unwin</td>\n",
       "    </tr>\n",
       "    <tr>\n",
       "      <th>264013</th>\n",
       "      <td>The Father Christmas letters</td>\n",
       "      <td>J. R. R Tolkien</td>\n",
       "      <td>Allen &amp;amp; Unwin</td>\n",
       "    </tr>\n",
       "    <tr>\n",
       "      <th>10661</th>\n",
       "      <td>The Silmarillion</td>\n",
       "      <td>J. R. R Tolkien</td>\n",
       "      <td>Allen &amp;amp; Unwin</td>\n",
       "    </tr>\n",
       "    <tr>\n",
       "      <th>239802</th>\n",
       "      <td>Letters of J.R.R. Tolkien: A selection</td>\n",
       "      <td>J. R. R Tolkien</td>\n",
       "      <td>Allen &amp;amp; Unwin</td>\n",
       "    </tr>\n",
       "    <tr>\n",
       "      <th>39683</th>\n",
       "      <td>Unfinished Tales of Numenor and Middle-Earth</td>\n",
       "      <td>J. R. R. Tolkien</td>\n",
       "      <td>Allen &amp;amp; Unwin Pty., Limited (Australia)</td>\n",
       "    </tr>\n",
       "    <tr>\n",
       "      <th>219929</th>\n",
       "      <td>Mr. Bliss</td>\n",
       "      <td>J. R. R. Tolkien</td>\n",
       "      <td>Allen &amp;amp; Unwin Pty., Limited (Australia)</td>\n",
       "    </tr>\n",
       "    <tr>\n",
       "      <th>52381</th>\n",
       "      <td>The Lord of the rings,</td>\n",
       "      <td>J. R. R Tolkien</td>\n",
       "      <td>Allen and Unwin</td>\n",
       "    </tr>\n",
       "    <tr>\n",
       "      <th>96792</th>\n",
       "      <td>Beowulf and the Critics (Medieval &amp;amp; Renais...</td>\n",
       "      <td>J. R. R. Tolkien</td>\n",
       "      <td>Arizona Center for Medieval and Renaissance S</td>\n",
       "    </tr>\n",
       "    <tr>\n",
       "      <th>6253</th>\n",
       "      <td>The Hobbit</td>\n",
       "      <td>J R R Tolkien</td>\n",
       "      <td>Ballantine Books</td>\n",
       "    </tr>\n",
       "  </tbody>\n",
       "</table>\n",
       "</div>"
      ],
      "text/plain": [
       "                                               Book-Title       Book-Author  \\\n",
       "135853            Bilbo's Last Song: (At the Grey Havens)  J. R. R. Tolkien   \n",
       "39687   The Book of Lost Tales, Part 1 (The History of...  J. R. R. Tolkien   \n",
       "264013                       The Father Christmas letters   J. R. R Tolkien   \n",
       "10661                                    The Silmarillion   J. R. R Tolkien   \n",
       "239802             Letters of J.R.R. Tolkien: A selection   J. R. R Tolkien   \n",
       "39683        Unfinished Tales of Numenor and Middle-Earth  J. R. R. Tolkien   \n",
       "219929                                          Mr. Bliss  J. R. R. Tolkien   \n",
       "52381                              The Lord of the rings,   J. R. R Tolkien   \n",
       "96792   Beowulf and the Critics (Medieval &amp; Renais...  J. R. R. Tolkien   \n",
       "6253                                           The Hobbit     J R R Tolkien   \n",
       "\n",
       "                                            Publisher  \n",
       "135853                                Alfred A. Knopf  \n",
       "39687                               Allen &amp; Unwin  \n",
       "264013                              Allen &amp; Unwin  \n",
       "10661                               Allen &amp; Unwin  \n",
       "239802                              Allen &amp; Unwin  \n",
       "39683     Allen &amp; Unwin Pty., Limited (Australia)  \n",
       "219929    Allen &amp; Unwin Pty., Limited (Australia)  \n",
       "52381                                 Allen and Unwin  \n",
       "96792   Arizona Center for Medieval and Renaissance S  \n",
       "6253                                 Ballantine Books  "
      ]
     },
     "execution_count": 21,
     "metadata": {},
     "output_type": "execute_result"
    }
   ],
   "source": [
    "# Normalize author surname\n",
    "books['Book-Author-lower'] = books['Book-Author'].str.lower().str.strip()\n",
    "books['Author-Surname'] = books['Book-Author-lower'].str.split().str[-1]\n",
    "\n",
    "# Filter Tolkien books\n",
    "tolkien_books = books[books['Author-Surname'] == 'tolkien']\n",
    "\n",
    "# Display relevant columns\n",
    "tolkien_books[['Book-Title', 'Book-Author', 'Publisher']].drop_duplicates().sort_values('Publisher').head(10)\n"
   ]
  },
  {
   "cell_type": "code",
   "execution_count": 22,
   "id": "a3b2ca66-7585-480f-a5c8-fa0aa59c1cb8",
   "metadata": {},
   "outputs": [
    {
     "data": {
      "text/html": [
       "<div>\n",
       "<style scoped>\n",
       "    .dataframe tbody tr th:only-of-type {\n",
       "        vertical-align: middle;\n",
       "    }\n",
       "\n",
       "    .dataframe tbody tr th {\n",
       "        vertical-align: top;\n",
       "    }\n",
       "\n",
       "    .dataframe thead th {\n",
       "        text-align: right;\n",
       "    }\n",
       "</style>\n",
       "<table border=\"1\" class=\"dataframe\">\n",
       "  <thead>\n",
       "    <tr style=\"text-align: right;\">\n",
       "      <th></th>\n",
       "      <th>Tolkien_Book_Count</th>\n",
       "      <th>count</th>\n",
       "    </tr>\n",
       "  </thead>\n",
       "  <tbody>\n",
       "    <tr>\n",
       "      <th>0</th>\n",
       "      <td>Houghton Mifflin Company</td>\n",
       "      <td>47</td>\n",
       "    </tr>\n",
       "    <tr>\n",
       "      <th>1</th>\n",
       "      <td>Houghton Mifflin</td>\n",
       "      <td>44</td>\n",
       "    </tr>\n",
       "    <tr>\n",
       "      <th>2</th>\n",
       "      <td>Minotauro</td>\n",
       "      <td>18</td>\n",
       "    </tr>\n",
       "    <tr>\n",
       "      <th>3</th>\n",
       "      <td>Not Avail</td>\n",
       "      <td>15</td>\n",
       "    </tr>\n",
       "    <tr>\n",
       "      <th>4</th>\n",
       "      <td>Klett-Cotta</td>\n",
       "      <td>13</td>\n",
       "    </tr>\n",
       "    <tr>\n",
       "      <th>5</th>\n",
       "      <td>Del Rey</td>\n",
       "      <td>9</td>\n",
       "    </tr>\n",
       "    <tr>\n",
       "      <th>6</th>\n",
       "      <td>Del Rey Books</td>\n",
       "      <td>9</td>\n",
       "    </tr>\n",
       "    <tr>\n",
       "      <th>7</th>\n",
       "      <td>Ballantine Books</td>\n",
       "      <td>9</td>\n",
       "    </tr>\n",
       "    <tr>\n",
       "      <th>8</th>\n",
       "      <td>Distribooks</td>\n",
       "      <td>7</td>\n",
       "    </tr>\n",
       "    <tr>\n",
       "      <th>9</th>\n",
       "      <td>Recorded Books</td>\n",
       "      <td>7</td>\n",
       "    </tr>\n",
       "  </tbody>\n",
       "</table>\n",
       "</div>"
      ],
      "text/plain": [
       "         Tolkien_Book_Count  count\n",
       "0  Houghton Mifflin Company     47\n",
       "1          Houghton Mifflin     44\n",
       "2                 Minotauro     18\n",
       "3                 Not Avail     15\n",
       "4               Klett-Cotta     13\n",
       "5                   Del Rey      9\n",
       "6             Del Rey Books      9\n",
       "7          Ballantine Books      9\n",
       "8               Distribooks      7\n",
       "9            Recorded Books      7"
      ]
     },
     "execution_count": 22,
     "metadata": {},
     "output_type": "execute_result"
    }
   ],
   "source": [
    "# Count number of books by publisher\n",
    "publisher_counts = (\n",
    "    tolkien_books['Publisher']\n",
    "    .dropna()\n",
    "    .value_counts()\n",
    "    .reset_index()\n",
    "    .rename(columns={'index': 'Publisher', 'Publisher': 'Tolkien_Book_Count'})\n",
    ")\n",
    "\n",
    "# Display result\n",
    "publisher_counts.head(10)\n"
   ]
  },
  {
   "cell_type": "markdown",
   "id": "f5512b0b-c64d-46aa-8b30-dbd31fc91fd7",
   "metadata": {},
   "source": [
    "## Image-URL-S/M/L"
   ]
  },
  {
   "cell_type": "code",
   "execution_count": 23,
   "id": "2fc06a23-4160-4db0-a0fa-f7caf68cfe09",
   "metadata": {},
   "outputs": [
    {
     "data": {
      "text/html": [
       "<table border=\"1\" class=\"dataframe\">\n",
       "  <thead>\n",
       "    <tr style=\"text-align: right;\">\n",
       "      <th></th>\n",
       "      <th>ISBN</th>\n",
       "      <th>Image-URL-S</th>\n",
       "      <th>Image-URL-M</th>\n",
       "      <th>Image-URL-L</th>\n",
       "    </tr>\n",
       "  </thead>\n",
       "  <tbody>\n",
       "    <tr>\n",
       "      <th>205061</th>\n",
       "      <td>0444409300</td>\n",
       "      <td><a href=\"http://images.amazon.com/images/P/0444409300.01.THUMBZZZ.jpg\" target=\"_blank\">link</a></td>\n",
       "      <td><a href=\"http://images.amazon.com/images/P/0444409300.01.MZZZZZZZ.jpg\" target=\"_blank\">link</a></td>\n",
       "      <td><a href=\"http://images.amazon.com/images/P/0444409300.01.LZZZZZZZ.jpg\" target=\"_blank\">link</a></td>\n",
       "    </tr>\n",
       "    <tr>\n",
       "      <th>93775</th>\n",
       "      <td>0060106581</td>\n",
       "      <td><a href=\"http://images.amazon.com/images/P/0060106581.01.THUMBZZZ.jpg\" target=\"_blank\">link</a></td>\n",
       "      <td><a href=\"http://images.amazon.com/images/P/0060106581.01.MZZZZZZZ.jpg\" target=\"_blank\">link</a></td>\n",
       "      <td><a href=\"http://images.amazon.com/images/P/0060106581.01.LZZZZZZZ.jpg\" target=\"_blank\">link</a></td>\n",
       "    </tr>\n",
       "    <tr>\n",
       "      <th>175040</th>\n",
       "      <td>0307117456</td>\n",
       "      <td><a href=\"http://images.amazon.com/images/P/0307117456.01.THUMBZZZ.jpg\" target=\"_blank\">link</a></td>\n",
       "      <td><a href=\"http://images.amazon.com/images/P/0307117456.01.MZZZZZZZ.jpg\" target=\"_blank\">link</a></td>\n",
       "      <td><a href=\"http://images.amazon.com/images/P/0307117456.01.LZZZZZZZ.jpg\" target=\"_blank\">link</a></td>\n",
       "    </tr>\n",
       "    <tr>\n",
       "      <th>853</th>\n",
       "      <td>0553574175</td>\n",
       "      <td><a href=\"http://images.amazon.com/images/P/0553574175.01.THUMBZZZ.jpg\" target=\"_blank\">link</a></td>\n",
       "      <td><a href=\"http://images.amazon.com/images/P/0553574175.01.MZZZZZZZ.jpg\" target=\"_blank\">link</a></td>\n",
       "      <td><a href=\"http://images.amazon.com/images/P/0553574175.01.LZZZZZZZ.jpg\" target=\"_blank\">link</a></td>\n",
       "    </tr>\n",
       "    <tr>\n",
       "      <th>25205</th>\n",
       "      <td>0590252194</td>\n",
       "      <td><a href=\"http://images.amazon.com/images/P/0590252194.01.THUMBZZZ.jpg\" target=\"_blank\">link</a></td>\n",
       "      <td><a href=\"http://images.amazon.com/images/P/0590252194.01.MZZZZZZZ.jpg\" target=\"_blank\">link</a></td>\n",
       "      <td><a href=\"http://images.amazon.com/images/P/0590252194.01.LZZZZZZZ.jpg\" target=\"_blank\">link</a></td>\n",
       "    </tr>\n",
       "    <tr>\n",
       "      <th>29301</th>\n",
       "      <td>0140240233</td>\n",
       "      <td><a href=\"http://images.amazon.com/images/P/0140240233.01.THUMBZZZ.jpg\" target=\"_blank\">link</a></td>\n",
       "      <td><a href=\"http://images.amazon.com/images/P/0140240233.01.MZZZZZZZ.jpg\" target=\"_blank\">link</a></td>\n",
       "      <td><a href=\"http://images.amazon.com/images/P/0140240233.01.LZZZZZZZ.jpg\" target=\"_blank\">link</a></td>\n",
       "    </tr>\n",
       "    <tr>\n",
       "      <th>100955</th>\n",
       "      <td>1899866264</td>\n",
       "      <td><a href=\"http://images.amazon.com/images/P/1899866264.01.THUMBZZZ.jpg\" target=\"_blank\">link</a></td>\n",
       "      <td><a href=\"http://images.amazon.com/images/P/1899866264.01.MZZZZZZZ.jpg\" target=\"_blank\">link</a></td>\n",
       "      <td><a href=\"http://images.amazon.com/images/P/1899866264.01.LZZZZZZZ.jpg\" target=\"_blank\">link</a></td>\n",
       "    </tr>\n",
       "    <tr>\n",
       "      <th>219859</th>\n",
       "      <td>0393032566</td>\n",
       "      <td><a href=\"http://images.amazon.com/images/P/0393032566.01.THUMBZZZ.jpg\" target=\"_blank\">link</a></td>\n",
       "      <td><a href=\"http://images.amazon.com/images/P/0393032566.01.MZZZZZZZ.jpg\" target=\"_blank\">link</a></td>\n",
       "      <td><a href=\"http://images.amazon.com/images/P/0393032566.01.LZZZZZZZ.jpg\" target=\"_blank\">link</a></td>\n",
       "    </tr>\n",
       "    <tr>\n",
       "      <th>130768</th>\n",
       "      <td>0451184815</td>\n",
       "      <td><a href=\"http://images.amazon.com/images/P/0451184815.01.THUMBZZZ.jpg\" target=\"_blank\">link</a></td>\n",
       "      <td><a href=\"http://images.amazon.com/images/P/0451184815.01.MZZZZZZZ.jpg\" target=\"_blank\">link</a></td>\n",
       "      <td><a href=\"http://images.amazon.com/images/P/0451184815.01.LZZZZZZZ.jpg\" target=\"_blank\">link</a></td>\n",
       "    </tr>\n",
       "    <tr>\n",
       "      <th>46624</th>\n",
       "      <td>0449001873</td>\n",
       "      <td><a href=\"http://images.amazon.com/images/P/0449001873.01.THUMBZZZ.jpg\" target=\"_blank\">link</a></td>\n",
       "      <td><a href=\"http://images.amazon.com/images/P/0449001873.01.MZZZZZZZ.jpg\" target=\"_blank\">link</a></td>\n",
       "      <td><a href=\"http://images.amazon.com/images/P/0449001873.01.LZZZZZZZ.jpg\" target=\"_blank\">link</a></td>\n",
       "    </tr>\n",
       "  </tbody>\n",
       "</table>"
      ],
      "text/plain": [
       "<IPython.core.display.HTML object>"
      ]
     },
     "execution_count": 23,
     "metadata": {},
     "output_type": "execute_result"
    }
   ],
   "source": [
    "#For the purpose of making the links clickable\n",
    "from IPython.display import HTML\n",
    "\n",
    "# Sample\n",
    "sample_images = books[['ISBN', 'Image-URL-S', 'Image-URL-M', 'Image-URL-L']].sample(10).copy()\n",
    "\n",
    "# Make each URL a clickable link\n",
    "for col in ['Image-URL-S', 'Image-URL-M', 'Image-URL-L']:\n",
    "    sample_images[col] = sample_images[col].apply(lambda url: f'<a href=\"{url}\" target=\"_blank\">link</a>')\n",
    "\n",
    "# Display as HTML\n",
    "HTML(sample_images.to_html(escape=False))\n"
   ]
  },
  {
   "cell_type": "markdown",
   "id": "d0f60fa4-9ebd-49f0-834f-b75d58411588",
   "metadata": {},
   "source": [
    "#### Missing or Unusable: \n",
    "A significant number of images are blank.\n",
    "\n",
    "#### Redundancy: \n",
    "All three columns usually point to the same image, differing only in resolution. Occasionally, one URL might be broken or inconsistent.\n",
    "\n",
    "#### Theoretical \"Out of the Box\" Use Case: \n",
    "In theory, one could extract visual features from covers and try to classify genres such as fantasy based on training data (not part of this analysis).\n",
    "\n",
    "#### Potential Use Case: \n",
    "These image links will not be used in the recommendation modeling process. However, they could serve a cosmetic purpose — for instance, to visually enrich the user interface by displaying a book's cover alongside its title and author in the final recommendation output.\n",
    "\n",
    "The link includes hidden ISBNs, which could potentially be used to verify or fill in missing values. However, ISBN is not a problematic feature in this dataset.\n",
    "\n"
   ]
  },
  {
   "cell_type": "markdown",
   "id": "65a004e5-04d1-4ad8-a90d-c199b8290122",
   "metadata": {},
   "source": [
    "# II.Users"
   ]
  },
  {
   "cell_type": "code",
   "execution_count": 24,
   "id": "db60139c-ffcc-41a2-9655-81ebb43e1f51",
   "metadata": {},
   "outputs": [
    {
     "name": "stdout",
     "output_type": "stream",
     "text": [
      "<class 'pandas.core.frame.DataFrame'>\n",
      "RangeIndex: 278858 entries, 0 to 278857\n",
      "Data columns (total 3 columns):\n",
      " #   Column    Non-Null Count   Dtype  \n",
      "---  ------    --------------   -----  \n",
      " 0   User-ID   278858 non-null  int64  \n",
      " 1   Location  278858 non-null  object \n",
      " 2   Age       168096 non-null  float64\n",
      "dtypes: float64(1), int64(1), object(1)\n",
      "memory usage: 6.4+ MB\n"
     ]
    }
   ],
   "source": [
    "users.info()"
   ]
  },
  {
   "cell_type": "code",
   "execution_count": 25,
   "id": "fb21c28e-b4c7-4b0e-bdb4-77aca8949f48",
   "metadata": {},
   "outputs": [
    {
     "name": "stdout",
     "output_type": "stream",
     "text": [
      "User-ID is unique: True\n"
     ]
    }
   ],
   "source": [
    "# Check uniqueness of User-ID\n",
    "is_unique = users['User-ID'].is_unique\n",
    "print(\"User-ID is unique:\", is_unique)\n"
   ]
  },
  {
   "cell_type": "code",
   "execution_count": 26,
   "id": "b4bbaf0b-7e0b-47ae-b2fa-b12a841c6534",
   "metadata": {},
   "outputs": [
    {
     "data": {
      "text/html": [
       "<div>\n",
       "<style scoped>\n",
       "    .dataframe tbody tr th:only-of-type {\n",
       "        vertical-align: middle;\n",
       "    }\n",
       "\n",
       "    .dataframe tbody tr th {\n",
       "        vertical-align: top;\n",
       "    }\n",
       "\n",
       "    .dataframe thead th {\n",
       "        text-align: right;\n",
       "    }\n",
       "</style>\n",
       "<table border=\"1\" class=\"dataframe\">\n",
       "  <thead>\n",
       "    <tr style=\"text-align: right;\">\n",
       "      <th></th>\n",
       "      <th>User-ID</th>\n",
       "      <th>Location</th>\n",
       "      <th>Age</th>\n",
       "    </tr>\n",
       "  </thead>\n",
       "  <tbody>\n",
       "    <tr>\n",
       "      <th>128583</th>\n",
       "      <td>128584</td>\n",
       "      <td>glasgow, scotland, united kingdom</td>\n",
       "      <td>46.0</td>\n",
       "    </tr>\n",
       "    <tr>\n",
       "      <th>14728</th>\n",
       "      <td>14729</td>\n",
       "      <td>durban, kwazulu natal, south africa</td>\n",
       "      <td>NaN</td>\n",
       "    </tr>\n",
       "    <tr>\n",
       "      <th>73410</th>\n",
       "      <td>73411</td>\n",
       "      <td>lincoln, england, united kingdom</td>\n",
       "      <td>35.0</td>\n",
       "    </tr>\n",
       "    <tr>\n",
       "      <th>43743</th>\n",
       "      <td>43744</td>\n",
       "      <td>seoul, seoul, south korea</td>\n",
       "      <td>NaN</td>\n",
       "    </tr>\n",
       "    <tr>\n",
       "      <th>130478</th>\n",
       "      <td>130479</td>\n",
       "      <td>fort smith, arkansas, usa</td>\n",
       "      <td>61.0</td>\n",
       "    </tr>\n",
       "    <tr>\n",
       "      <th>31672</th>\n",
       "      <td>31673</td>\n",
       "      <td>los angeles, california, usa</td>\n",
       "      <td>61.0</td>\n",
       "    </tr>\n",
       "    <tr>\n",
       "      <th>203254</th>\n",
       "      <td>203255</td>\n",
       "      <td>seoul, seoul, s.corea</td>\n",
       "      <td>NaN</td>\n",
       "    </tr>\n",
       "    <tr>\n",
       "      <th>195566</th>\n",
       "      <td>195567</td>\n",
       "      <td>san francisco, california, usa</td>\n",
       "      <td>55.0</td>\n",
       "    </tr>\n",
       "    <tr>\n",
       "      <th>49769</th>\n",
       "      <td>49770</td>\n",
       "      <td>montgomery village, maryland, usa</td>\n",
       "      <td>NaN</td>\n",
       "    </tr>\n",
       "    <tr>\n",
       "      <th>18974</th>\n",
       "      <td>18975</td>\n",
       "      <td>winter park, florida, usa</td>\n",
       "      <td>55.0</td>\n",
       "    </tr>\n",
       "  </tbody>\n",
       "</table>\n",
       "</div>"
      ],
      "text/plain": [
       "        User-ID                             Location   Age\n",
       "128583   128584    glasgow, scotland, united kingdom  46.0\n",
       "14728     14729  durban, kwazulu natal, south africa   NaN\n",
       "73410     73411     lincoln, england, united kingdom  35.0\n",
       "43743     43744            seoul, seoul, south korea   NaN\n",
       "130478   130479            fort smith, arkansas, usa  61.0\n",
       "31672     31673         los angeles, california, usa  61.0\n",
       "203254   203255                seoul, seoul, s.corea   NaN\n",
       "195566   195567       san francisco, california, usa  55.0\n",
       "49769     49770    montgomery village, maryland, usa   NaN\n",
       "18974     18975            winter park, florida, usa  55.0"
      ]
     },
     "execution_count": 26,
     "metadata": {},
     "output_type": "execute_result"
    }
   ],
   "source": [
    "users.sample(10, random_state=1)"
   ]
  },
  {
   "cell_type": "markdown",
   "id": "60d5e3c0-718d-4b2e-980b-702347603dc6",
   "metadata": {},
   "source": [
    "### User Location Format\n",
    "The Location field appears to follow the structure: City, Region/State, Country.\n",
    "The third component (typically the country) is likely the most informative — useful for modeling language or regional preferences.\n",
    "The other two may have limited value due to inconsistency.\n",
    "The second component (region/state) is the most ambiguous, as its meaning varies significantly across countries — it may denote a province, state, or even repeat the city name.\n",
    "\n",
    "Given these issues, extracting and normalizing the country component is likely the most promising preprocessing step"
   ]
  },
  {
   "cell_type": "code",
   "execution_count": 27,
   "id": "fc9c0ac8-c449-4b5d-b1e9-9682337d073f",
   "metadata": {
    "scrolled": true
   },
   "outputs": [
    {
     "name": "stdout",
     "output_type": "stream",
     "text": [
      "Locations with exactly two commas: 277348 out of 278858\n",
      "Locations with different structure: 1510\n"
     ]
    }
   ],
   "source": [
    "# Count number of commas in each Location\n",
    "users['comma_count'] = users['Location'].astype(str).str.count(',')\n",
    "\n",
    "# Check how many have exactly two commas\n",
    "exactly_two_commas = (users['comma_count'] == 2).sum()\n",
    "total_users = len(users)\n",
    "\n",
    "print(f\"Locations with exactly two commas: {exactly_two_commas} out of {total_users}\")\n",
    "print(f\"Locations with different structure: {total_users - exactly_two_commas}\")\n"
   ]
  },
  {
   "cell_type": "code",
   "execution_count": 28,
   "id": "722e9913-20ef-4604-ae87-3da40f42203b",
   "metadata": {},
   "outputs": [
    {
     "data": {
      "text/html": [
       "<div>\n",
       "<style scoped>\n",
       "    .dataframe tbody tr th:only-of-type {\n",
       "        vertical-align: middle;\n",
       "    }\n",
       "\n",
       "    .dataframe tbody tr th {\n",
       "        vertical-align: top;\n",
       "    }\n",
       "\n",
       "    .dataframe thead th {\n",
       "        text-align: right;\n",
       "    }\n",
       "</style>\n",
       "<table border=\"1\" class=\"dataframe\">\n",
       "  <thead>\n",
       "    <tr style=\"text-align: right;\">\n",
       "      <th></th>\n",
       "      <th>User-ID</th>\n",
       "      <th>Location</th>\n",
       "    </tr>\n",
       "  </thead>\n",
       "  <tbody>\n",
       "    <tr>\n",
       "      <th>107415</th>\n",
       "      <td>107416</td>\n",
       "      <td>singapore, jakarta, singapore, singapore</td>\n",
       "    </tr>\n",
       "    <tr>\n",
       "      <th>186724</th>\n",
       "      <td>186725</td>\n",
       "      <td>shah alam, selangor, minnesota, malaysia</td>\n",
       "    </tr>\n",
       "    <tr>\n",
       "      <th>150383</th>\n",
       "      <td>150384</td>\n",
       "      <td>bishops stortford, herts., england, united kin...</td>\n",
       "    </tr>\n",
       "    <tr>\n",
       "      <th>99630</th>\n",
       "      <td>99631</td>\n",
       "      <td>auburn, ca, california, usa</td>\n",
       "    </tr>\n",
       "    <tr>\n",
       "      <th>216884</th>\n",
       "      <td>216885</td>\n",
       "      <td>brandon,mb, manitoba, canada</td>\n",
       "    </tr>\n",
       "    <tr>\n",
       "      <th>57303</th>\n",
       "      <td>57304</td>\n",
       "      <td>winfield, ab, alberta, canada</td>\n",
       "    </tr>\n",
       "    <tr>\n",
       "      <th>257346</th>\n",
       "      <td>257347</td>\n",
       "      <td>missoula,, montana, usa</td>\n",
       "    </tr>\n",
       "    <tr>\n",
       "      <th>46235</th>\n",
       "      <td>46236</td>\n",
       "      <td>austin, texas, texas, usa</td>\n",
       "    </tr>\n",
       "    <tr>\n",
       "      <th>32287</th>\n",
       "      <td>32288</td>\n",
       "      <td>huntersville, nc, north carolina, usa</td>\n",
       "    </tr>\n",
       "    <tr>\n",
       "      <th>16561</th>\n",
       "      <td>16562</td>\n",
       "      <td>edmonton,, alberta, canada</td>\n",
       "    </tr>\n",
       "  </tbody>\n",
       "</table>\n",
       "</div>"
      ],
      "text/plain": [
       "        User-ID                                           Location\n",
       "107415   107416           singapore, jakarta, singapore, singapore\n",
       "186724   186725           shah alam, selangor, minnesota, malaysia\n",
       "150383   150384  bishops stortford, herts., england, united kin...\n",
       "99630     99631                        auburn, ca, california, usa\n",
       "216884   216885                       brandon,mb, manitoba, canada\n",
       "57303     57304                      winfield, ab, alberta, canada\n",
       "257346   257347                            missoula,, montana, usa\n",
       "46235     46236                          austin, texas, texas, usa\n",
       "32287     32288              huntersville, nc, north carolina, usa\n",
       "16561     16562                         edmonton,, alberta, canada"
      ]
     },
     "execution_count": 28,
     "metadata": {},
     "output_type": "execute_result"
    }
   ],
   "source": [
    "# Filter users with location not having exactly two commas\n",
    "irregular_locations = users[users['comma_count'] != 2]\n",
    "\n",
    "# Show a random sample of these entries\n",
    "irregular_locations[['User-ID', 'Location']].sample(10, random_state=1)\n"
   ]
  },
  {
   "cell_type": "code",
   "execution_count": 29,
   "id": "6e5889a9-413b-4210-a4d6-55069b363e02",
   "metadata": {},
   "outputs": [],
   "source": [
    "# Ensure string format and strip whitespace\n",
    "users['Location'] = users['Location'].astype(str).str.strip()\n",
    "\n",
    "# Extract the last component after the last comma as Country\n",
    "users['Country'] = users['Location'].apply(lambda loc: loc.split(',')[-1].strip().lower())\n",
    "\n"
   ]
  },
  {
   "cell_type": "code",
   "execution_count": 30,
   "id": "0d6e9eac-0ced-45fe-87ab-a8355070410b",
   "metadata": {},
   "outputs": [
    {
     "data": {
      "text/html": [
       "<div>\n",
       "<style scoped>\n",
       "    .dataframe tbody tr th:only-of-type {\n",
       "        vertical-align: middle;\n",
       "    }\n",
       "\n",
       "    .dataframe tbody tr th {\n",
       "        vertical-align: top;\n",
       "    }\n",
       "\n",
       "    .dataframe thead th {\n",
       "        text-align: right;\n",
       "    }\n",
       "</style>\n",
       "<table border=\"1\" class=\"dataframe\">\n",
       "  <thead>\n",
       "    <tr style=\"text-align: right;\">\n",
       "      <th></th>\n",
       "      <th>Country</th>\n",
       "      <th>Num_Users</th>\n",
       "    </tr>\n",
       "  </thead>\n",
       "  <tbody>\n",
       "    <tr>\n",
       "      <th>0</th>\n",
       "      <td>usa</td>\n",
       "      <td>139711</td>\n",
       "    </tr>\n",
       "    <tr>\n",
       "      <th>1</th>\n",
       "      <td>canada</td>\n",
       "      <td>21658</td>\n",
       "    </tr>\n",
       "    <tr>\n",
       "      <th>2</th>\n",
       "      <td>united kingdom</td>\n",
       "      <td>18538</td>\n",
       "    </tr>\n",
       "    <tr>\n",
       "      <th>3</th>\n",
       "      <td>germany</td>\n",
       "      <td>17043</td>\n",
       "    </tr>\n",
       "    <tr>\n",
       "      <th>4</th>\n",
       "      <td>spain</td>\n",
       "      <td>13147</td>\n",
       "    </tr>\n",
       "    <tr>\n",
       "      <th>5</th>\n",
       "      <td>australia</td>\n",
       "      <td>11784</td>\n",
       "    </tr>\n",
       "    <tr>\n",
       "      <th>6</th>\n",
       "      <td>italy</td>\n",
       "      <td>11266</td>\n",
       "    </tr>\n",
       "    <tr>\n",
       "      <th>7</th>\n",
       "      <td></td>\n",
       "      <td>4578</td>\n",
       "    </tr>\n",
       "    <tr>\n",
       "      <th>8</th>\n",
       "      <td>france</td>\n",
       "      <td>3455</td>\n",
       "    </tr>\n",
       "    <tr>\n",
       "      <th>9</th>\n",
       "      <td>portugal</td>\n",
       "      <td>3325</td>\n",
       "    </tr>\n",
       "  </tbody>\n",
       "</table>\n",
       "</div>"
      ],
      "text/plain": [
       "          Country  Num_Users\n",
       "0             usa     139711\n",
       "1          canada      21658\n",
       "2  united kingdom      18538\n",
       "3         germany      17043\n",
       "4           spain      13147\n",
       "5       australia      11784\n",
       "6           italy      11266\n",
       "7                       4578\n",
       "8          france       3455\n",
       "9        portugal       3325"
      ]
     },
     "execution_count": 30,
     "metadata": {},
     "output_type": "execute_result"
    }
   ],
   "source": [
    "# Count number of users per country\n",
    "country_counts = users['Country'].value_counts().reset_index()\n",
    "country_counts.columns = ['Country', 'Num_Users']\n",
    "\n",
    "# Display all countries with user counts\n",
    "country_counts.head(10)"
   ]
  },
  {
   "cell_type": "markdown",
   "id": "b44bcde6-d3ef-415e-99fc-7139455b8aa0",
   "metadata": {},
   "source": [
    "Missing country can be estimated from the City/Province"
   ]
  },
  {
   "cell_type": "markdown",
   "id": "04c3f2c3-7a3b-4179-bae8-5baf7c7f4034",
   "metadata": {},
   "source": [
    "### Age"
   ]
  },
  {
   "cell_type": "code",
   "execution_count": 31,
   "id": "5ae2d80e-fc54-4a6f-a306-d3143cf8c538",
   "metadata": {},
   "outputs": [
    {
     "name": "stdout",
     "output_type": "stream",
     "text": [
      "Missing age entries: 110762 (39.72%)\n",
      "Non-missing age entries: 168096 (60.28%)\n"
     ]
    },
    {
     "data": {
      "image/png": "[encoded data removed]",
      "text/plain": [
       "<Figure size 1000x500 with 1 Axes>"
      ]
     },
     "metadata": {},
     "output_type": "display_data"
    }
   ],
   "source": [
    "#Identify missing age entries\n",
    "total_users = len(users)\n",
    "missing_age_count = users['Age'].isna().sum()\n",
    "non_missing_age_count = users['Age'].notna().sum()\n",
    "\n",
    "missing_pct = missing_age_count / total_users * 100\n",
    "non_missing_pct = non_missing_age_count / total_users * 100\n",
    "\n",
    "print(f\"Missing age entries: {missing_age_count} ({missing_pct:.2f}%)\")\n",
    "print(f\"Non-missing age entries: {non_missing_age_count} ({non_missing_pct:.2f}%)\")\n",
    "\n",
    "\n",
    "# Histogram of non-missing, reasonable age values\n",
    "valid_ages = users['Age'].dropna()\n",
    "plt.figure(figsize=(10, 5))\n",
    "plt.hist(valid_ages, bins=50, color='skyblue', edgecolor='black')\n",
    "plt.title('Distribution of User Ages')\n",
    "plt.xlabel('Age')\n",
    "plt.ylabel('Number of Users')\n",
    "plt.grid(True)\n",
    "plt.show()\n"
   ]
  },
  {
   "cell_type": "code",
   "execution_count": 32,
   "id": "a62cb9dc-0fdd-4247-9f0c-b62b282bc5c1",
   "metadata": {},
   "outputs": [
    {
     "data": {
      "text/plain": [
       "Age\n",
       "0.0      416\n",
       "1.0      288\n",
       "2.0      105\n",
       "3.0       45\n",
       "4.0       28\n",
       "5.0       26\n",
       "6.0       18\n",
       "7.0       27\n",
       "8.0       54\n",
       "9.0       62\n",
       "10.0      84\n",
       "11.0     121\n",
       "12.0     192\n",
       "13.0     885\n",
       "14.0    1962\n",
       "15.0    2383\n",
       "16.0    2570\n",
       "17.0    3044\n",
       "18.0    3703\n",
       "19.0    3950\n",
       "Name: count, dtype: int64"
      ]
     },
     "execution_count": 32,
     "metadata": {},
     "output_type": "execute_result"
    }
   ],
   "source": [
    "# Count number of users per age\n",
    "age_counts = users['Age'].value_counts().sort_index()\n",
    "age_counts.head(20)"
   ]
  },
  {
   "cell_type": "code",
   "execution_count": 33,
   "id": "f4da4cf9-8162-4adb-a019-f715ea77e133",
   "metadata": {},
   "outputs": [
    {
     "data": {
      "text/plain": [
       "Age\n",
       "199.0    2\n",
       "200.0    2\n",
       "201.0    1\n",
       "204.0    4\n",
       "207.0    1\n",
       "208.0    1\n",
       "209.0    2\n",
       "210.0    3\n",
       "212.0    1\n",
       "219.0    1\n",
       "220.0    1\n",
       "223.0    1\n",
       "226.0    1\n",
       "228.0    3\n",
       "229.0    1\n",
       "230.0    1\n",
       "231.0    1\n",
       "237.0    1\n",
       "239.0    1\n",
       "244.0    1\n",
       "Name: count, dtype: int64"
      ]
     },
     "execution_count": 33,
     "metadata": {},
     "output_type": "execute_result"
    }
   ],
   "source": [
    "age_counts.tail(20)"
   ]
  },
  {
   "cell_type": "markdown",
   "id": "26cfa14f-758c-402d-9847-ede7e8df57a5",
   "metadata": {},
   "source": [
    "### User Age\n",
    "\n",
    "Approximately **40% of users have no age information** available. While the feature is missing for a large portion of users, **age can be highly valuable** in tailoring book recommendations — especially for distinguishing between content suitable for children, young adults, and adults readers.\n",
    "\n",
    "However, simply filling missing ages with an average would be misleading, as it would **consider all unknown users to be adults**.\n",
    "\n",
    "Smarter strategy - **Behavior-based inference**: The types of books a user interacts with  can offer strong signals about age. (Country or name can also include information about the age)\n",
    "\n",
    "\n",
    "Instead of trying to predict exact age **classify users into broader age groups** (e.g., child, teen, young adult, adult, senior).\n"
   ]
  },
  {
   "cell_type": "markdown",
   "id": "459f3b85-8966-4f6c-b36e-57abaf9aeca4",
   "metadata": {},
   "source": [
    "# II.Ratings"
   ]
  },
  {
   "cell_type": "code",
   "execution_count": 34,
   "id": "9a29930d-508e-4b93-9613-e78e2ea50a76",
   "metadata": {},
   "outputs": [
    {
     "name": "stdout",
     "output_type": "stream",
     "text": [
      "<class 'pandas.core.frame.DataFrame'>\n",
      "RangeIndex: 1149780 entries, 0 to 1149779\n",
      "Data columns (total 3 columns):\n",
      " #   Column       Non-Null Count    Dtype \n",
      "---  ------       --------------    ----- \n",
      " 0   User-ID      1149780 non-null  int64 \n",
      " 1   ISBN         1149780 non-null  object\n",
      " 2   Book-Rating  1149780 non-null  int64 \n",
      "dtypes: int64(2), object(1)\n",
      "memory usage: 26.3+ MB\n"
     ]
    }
   ],
   "source": [
    "ratings.info()"
   ]
  },
  {
   "cell_type": "code",
   "execution_count": 35,
   "id": "8e1d9d48-bdeb-4424-8bbd-64ec0298d1ea",
   "metadata": {},
   "outputs": [
    {
     "name": "stdout",
     "output_type": "stream",
     "text": [
      " Ratings with missing users: 0 (0.00%)\n",
      " Ratings with missing books: 118648 (10.32%)\n"
     ]
    }
   ],
   "source": [
    "# Total number of ratings\n",
    "total_ratings = len(ratings)\n",
    "\n",
    "# Check which User-IDs in ratings do NOT exist in users table\n",
    "missing_users = ~ratings['User-ID'].isin(users['User-ID'])\n",
    "missing_users_count = missing_users.sum()\n",
    "print(f\" Ratings with missing users: {missing_users_count} ({missing_users_count / total_ratings:.2%})\")\n",
    "\n",
    "# Check which ISBNs in ratings do NOT exist in books table\n",
    "missing_books = ~ratings['ISBN'].isin(books['ISBN'])\n",
    "missing_books_count = missing_books.sum()\n",
    "print(f\" Ratings with missing books: {missing_books_count} ({missing_books_count / total_ratings:.2%})\")\n"
   ]
  },
  {
   "cell_type": "code",
   "execution_count": 36,
   "id": "2de63485-71cb-4b47-91ed-b6b117b58054",
   "metadata": {},
   "outputs": [
    {
     "name": "stdout",
     "output_type": "stream",
     "text": [
      "ISBN\n",
      "0679781587    639\n",
      "0749397543    160\n",
      "0552124753    127\n",
      "0091867770    112\n",
      "0099387913     95\n",
      "0552137030     93\n",
      "0330367358     92\n",
      "8873122933     88\n",
      "067697175X     80\n",
      "0749395990     78\n",
      "Name: count, dtype: int64\n"
     ]
    }
   ],
   "source": [
    "# Subset of ratings with ISBNs not present in books\n",
    "missing_book_ratings = ratings[~ratings['ISBN'].isin(books['ISBN'])]\n",
    "\n",
    "# Count how many times each missing ISBN appears\n",
    "missing_isbn_counts = missing_book_ratings['ISBN'].value_counts()\n",
    "\n",
    "# Show top 10 most frequently rated missing books\n",
    "print(missing_isbn_counts.head(10))"
   ]
  },
  {
   "cell_type": "code",
   "execution_count": 37,
   "id": "685c4d36-4806-4fef-ac1f-f272d9338e66",
   "metadata": {},
   "outputs": [
    {
     "name": "stdout",
     "output_type": "stream",
     "text": [
      "              Count  Percentage (all)  Percentage (nonzero only)\n",
      "Book-Rating                                                     \n",
      "0            716109             62.28                        NaN\n",
      "1              1770              0.15                       0.41\n",
      "2              2759              0.24                       0.64\n",
      "3              5996              0.52                       1.38\n",
      "4              8904              0.77                       2.05\n",
      "5             50974              4.43                      11.75\n",
      "6             36924              3.21                       8.51\n",
      "7             76457              6.65                      17.63\n",
      "8            103736              9.02                      23.92\n",
      "9             67541              5.87                      15.57\n",
      "10            78610              6.84                      18.13\n"
     ]
    }
   ],
   "source": [
    "# Count all rating values (0–10)\n",
    "rating_counts = ratings['Book-Rating'].value_counts().sort_index()\n",
    "\n",
    "# Total counts\n",
    "total_ratings = len(ratings)\n",
    "nonzero_ratings = ratings[ratings['Book-Rating'] != 0]\n",
    "nonzero_total = len(nonzero_ratings)\n",
    "\n",
    "# Calculate both percentages\n",
    "percentage_all = (rating_counts / total_ratings * 100).round(2)\n",
    "percentage_nonzero = rating_counts.copy().astype(float)\n",
    "percentage_nonzero[percentage_nonzero.index != 0] = (\n",
    "    percentage_nonzero[percentage_nonzero.index != 0] / nonzero_total * 100\n",
    ").round(2)\n",
    "percentage_nonzero[percentage_nonzero.index == 0] = float('nan')\n",
    "\n",
    "# Combine into one DataFrame\n",
    "rating_summary = pd.DataFrame({\n",
    "    'Count': rating_counts,\n",
    "    'Percentage (all)': percentage_all,\n",
    "    'Percentage (nonzero only)': percentage_nonzero\n",
    "})\n",
    "\n",
    "# Display\n",
    "print(rating_summary)"
   ]
  },
  {
   "cell_type": "code",
   "execution_count": null,
   "id": "146c2676-51eb-419b-85ad-2a9b1742af56",
   "metadata": {},
   "outputs": [],
   "source": []
  },
  {
   "cell_type": "markdown",
   "id": "578da450-d3a5-4ae3-9363-409592d5c62e",
   "metadata": {},
   "source": [
    "#### Missing Ratings Insight\n",
    "\n",
    "A significant portion of the dataset — approximately **62% of all book ratings** — are actually **zeros**. In the context of this dataset, a zero rating does not reflect a reader’s opinion, but rather indicates that the user simply read or interacted with the book **without providing an actual rating**.\n"
   ]
  },
  {
   "cell_type": "markdown",
   "id": "8a6e643d-5e3e-4f78-8ef8-8c33324bc057",
   "metadata": {},
   "source": [
    "## Exploratory Data Analysis Summary\n",
    "\n",
    "### Books Dataset\n",
    "\n",
    "| Feature              | Importance         | Quality / Issues                                                                 | Notes                                                                                   |\n",
    "|----------------------|--------------------|----------------------------------------------------------------------------------|------------------------------------------------------------------------------------------|\n",
    "| **ISBN**             | 🟢 Useful   | Mostly clean; 117 ASIN-like; 4 nonstandard length entries      | Passed checksum validation for all standard 10-digit ISBNs                             |\n",
    "| **Book-Title**       | 🟢 Useful        | Some placeholder values (\"NaN\", \"unknown\", etc.)                   | The same title appears under many ISBNs, different languages or publishers.                                     |\n",
    "| **Book-Author**      | 🟢 Useful        | Only 2 missing; some placeholders (\"unknown\")                                    | The same author appears in many variants (e.g. Tolkien, J.R.R. Tolkien, J.Tolkien)                                                                         |\n",
    "| **Year-Of-Publication** | 🟡 Medium        | Some invalid values (e.g. publishers in year field), entries like \"0\", \"2050\"    | Most entries clean; 0 = missing, >2025 = error based on dataset origin (2004)         |\n",
    "| **Publisher**        | 🟡 Low              | Some missing and placeholder values; inconsistent formatting                     | Possibly useful for validation, not critical for recommendation logic                  |\n",
    "| **Image-URL-S/M/L**  | 🔴  Not Useful       | Many links broken/missing; mostly duplicates (different sizes)                   | Only useful for UI visualization, not modeling                                          |\n",
    "\n",
    "---\n",
    "\n",
    "### Users Dataset\n",
    "\n",
    "| Feature       | Importance       | Quality / Issues                                                     | Notes                                                                 |\n",
    "|----------------|------------------|----------------------------------------------------------------------|-----------------------------------------------------------------------|\n",
    "| **User-ID**     | 🟢 Useful      | All unique                                                           | No preprocessing needed                                             |\n",
    "| **Location**    | 🟡 Low        | Inconsistent structure; some malformed         | Extracted country from last word; good proxy for language           |\n",
    "| **Age**         | 🟡🟢 Medium - High  | ~40% missing; unrealistic values (e.g. 0, 200)                        | Better to infer categorical age group (e.g. child, adult, senior)    |\n",
    "\n",
    "---\n",
    "\n",
    "### Ratings Dataset\n",
    "\n",
    "| Feature         | Importance       | Quality / Issues                                                     | Notes                                                                 |\n",
    "|------------------|------------------|----------------------------------------------------------------------|-----------------------------------------------------------------------|\n",
    "| **User-ID**       | 🟢 Useful       | All valid, found in users                                            | Consistent                                                          |\n",
    "| **ISBN**          | 🟢 Useful       | 119k (~10%) ISBNs missing in book metadata                                 | Exclude these for modeling                                  |\n",
    "| **Book-Rating**   | 🟢 Useful | Clean, integer 0–10; 0 (~62%) means read but did not rated  | Two options: use all data by treating it as read/did not read, or use ratings—but then more than half of the data will be unused                                       |\n",
    "\n",
    "---\n",
    "\n",
    "## Preprocessing Challenges\n",
    "\n",
    "- **Book-Rating column**: ~60% =0, means read but not rated. \n",
    "- **Age column**: ~40% missing. Try to estimate category (child/teen/young/adult/senior) from what they read.\n",
    "- **Missing metadata for 119k rated ISBNs**: Exclusion or further investigation.\n",
    "- **Year of Publication**: A few unrealistic values before 1000 or after 2025; some entries were non-numeric.\n",
    "- A few **Book-Titles**, **Publishers**, and **Authors** contain placeholder strings like `\"unknown\"` or `\"NaN\"` and other minor issues.\n"
   ]
  },
  {
   "cell_type": "markdown",
   "id": "be9b9ef5-dfaa-4578-9fee-03f65c78515a",
   "metadata": {},
   "source": [
    "## Relational Structure (SQL-style schema)\n",
    "\n",
    "This dataset can be modeled as a **relational database** with three main tables:\n",
    "\n",
    "---\n",
    "\n",
    "### `books` table\n",
    "| Column             | Role                  | Notes                                                                 |\n",
    "|--------------------|-----------------------|-----------------------------------------------------------------------|\n",
    "| `ISBN`             | **Primary Key**       | Unique identifier for each book. Some entries may be malformed or ASINs. |\n",
    "| Other columns      | Metadata              | Title, Author, Publisher, Year, Image-URLs...                         |\n",
    "\n",
    "---\n",
    "\n",
    "### `users` table\n",
    "| Column             | Role                  | Notes                                                                 |\n",
    "|--------------------|-----------------------|-----------------------------------------------------------------------|\n",
    "| `User-ID`          | **Primary Key**       | Unique identifier for each user                                       |\n",
    "| Other columns      | Demographics          | Location, Age                                                         |\n",
    "\n",
    "---\n",
    "\n",
    "### `ratings` table\n",
    "| Column             | Role                  | Notes                                                                 |\n",
    "|--------------------|-----------------------|-----------------------------------------------------------------------|\n",
    "| `User-ID`          | **Foreign Key → users(User-ID)** | All `User-ID`s exist in `users`                                |\n",
    "| `ISBN`             | **Foreign Key → books(ISBN)**    | ~119k ratings reference books not in `books`                     |\n",
    "| `Book-Rating`      | Rating value          | 0 = implicit, 1–10 = explicit                                         |\n",
    "\n"
   ]
  },
  {
   "cell_type": "code",
   "execution_count": null,
   "id": "d81c6012-e3d4-40be-87c2-5aa64179f086",
   "metadata": {},
   "outputs": [],
   "source": []
  }
 ],
 "metadata": {
  "kernelspec": {
   "display_name": "Python 3 (ipykernel)",
   "language": "python",
   "name": "python3"
  },
  "language_info": {
   "codemirror_mode": {
    "name": "ipython",
    "version": 3
   },
   "file_extension": ".py",
   "mimetype": "text/x-python",
   "name": "python",
   "nbconvert_exporter": "python",
   "pygments_lexer": "ipython3",
   "version": "3.12.3"
  }
 },
 "nbformat": 4,
 "nbformat_minor": 5
}
