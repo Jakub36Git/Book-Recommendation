{
 "cells": [
  {
   "cell_type": "markdown",
   "id": "15d764f7-2a8f-4587-844d-13d78cfaf2ea",
   "metadata": {},
   "source": [
    "## Fill the Missing Age (Age Group) Values Based on Reader Taste (for illustration purposes only)\n",
    "\n",
    "We estimate missing age groups by comparing users’ reading behavior.\n",
    "Using cosine similarity on a binary user-book interaction matrix, we identify the 5 most similar users (based on shared reading habits) for each user with unknown age. The predicted age group is assigned by majority vote among these nearest neighbors. In case of a tie, the result is chosen at random from the top-voted groups.\n",
    "\n",
    "This approach assumes that readers with similar book preferences tend to belong to similar demographic segments.\n",
    "\n",
    "⸻\n",
    "\n",
    "**Note**: A full-scale implementation would require careful optimization, handling technical issues (e.g. sparse vectors representation), and proper evaluation. The purpose here is to illustrate the idea, not to produce a production-ready model."
   ]
  },
  {
   "cell_type": "code",
   "execution_count": 1,
   "id": "4248bfd6-7de5-49bb-97d2-e345e38eeb2b",
   "metadata": {},
   "outputs": [],
   "source": [
    "import pandas as pd\n",
    "import numpy as np\n",
    "import matplotlib.pyplot as plt\n",
    "books = pd.read_csv('../data/Books.csv', low_memory=False) # Solved Warning: Columns (3) have mixed types. Specify dtype option on import or set low_memory=False.\n",
    "users = pd.read_csv('../data/Users.csv')\n",
    "ratings = pd.read_csv('../data/Ratings.csv')"
   ]
  },
  {
   "cell_type": "code",
   "execution_count": 2,
   "id": "f80a4f24-99f0-4eee-bf78-2dda450c7cbe",
   "metadata": {},
   "outputs": [
    {
     "name": "stdout",
     "output_type": "stream",
     "text": [
      "Missing age entries: 110762 (39.72%)\n",
      "Non-missing age entries: 168096 (60.28%)\n"
     ]
    },
    {
     "data": {
      "image/png": "[encoded data removed]",
      "text/plain": [
       "<Figure size 1000x500 with 1 Axes>"
      ]
     },
     "metadata": {},
     "output_type": "display_data"
    }
   ],
   "source": [
    "# Identify missing age entries\n",
    "total_users = len(users)\n",
    "missing_age_count = users['Age'].isna().sum()\n",
    "non_missing_age_count = users['Age'].notna().sum()\n",
    "\n",
    "missing_pct = missing_age_count / total_users * 100\n",
    "non_missing_pct = non_missing_age_count / total_users * 100\n",
    "\n",
    "print(f\"Missing age entries: {missing_age_count} ({missing_pct:.2f}%)\")\n",
    "print(f\"Non-missing age entries: {non_missing_age_count} ({non_missing_pct:.2f}%)\")\n",
    "\n",
    "\n",
    "# Step 2: Histogram of non-missing, reasonable age values\n",
    "valid_ages = users['Age'].dropna()\n",
    "plt.figure(figsize=(10, 5))\n",
    "plt.hist(valid_ages, bins=50, color='skyblue', edgecolor='black')\n",
    "plt.title('Distribution of User Ages')\n",
    "plt.xlabel('Age')\n",
    "plt.ylabel('Number of Users')\n",
    "plt.grid(True)\n",
    "plt.show()\n"
   ]
  },
  {
   "cell_type": "code",
   "execution_count": 3,
   "id": "fb423bae-cccb-4a54-8d1d-215527491aaa",
   "metadata": {},
   "outputs": [
    {
     "name": "stdout",
     "output_type": "stream",
     "text": [
      "Age_Group\n",
      "unknown        112043\n",
      "adult           69077\n",
      "middle-aged     45511\n",
      "young adult     32004\n",
      "teen            10844\n",
      "senior           8821\n",
      "child             558\n",
      "Name: count, dtype: int64\n"
     ]
    }
   ],
   "source": [
    "# Replace invalid ages with NaN\n",
    "users['Clean_Age'] = users['Age'].apply(lambda x: x if 6 <= x <= 99 else np.nan)\n",
    "\n",
    "# Define improved age group assignment function\n",
    "def assign_age_group(age):\n",
    "    if pd.isna(age):\n",
    "        return 'unknown'\n",
    "    elif 6 <= age <= 12:\n",
    "        return 'child'\n",
    "    elif 13 <= age <= 17:\n",
    "        return 'teen'\n",
    "    elif 18 <= age <= 24:\n",
    "        return 'young adult'\n",
    "    elif 25 <= age <= 39:\n",
    "        return 'adult'\n",
    "    elif 40 <= age <= 59:\n",
    "        return 'middle-aged'\n",
    "    else:  # 60–99\n",
    "        return 'senior'\n",
    "\n",
    "# Apply age group categorization\n",
    "users['Age_Group'] = users['Clean_Age'].apply(assign_age_group)\n",
    "\n",
    "# Show distribution\n",
    "print(users['Age_Group'].value_counts(dropna=False))"
   ]
  },
  {
   "cell_type": "code",
   "execution_count": 4,
   "id": "3fcfe2b7-adac-4e9f-af99-dc74803ed4d6",
   "metadata": {},
   "outputs": [
    {
     "name": "stdout",
     "output_type": "stream",
     "text": [
      "Age_Group\n",
      "adult          7529\n",
      "unknown        7254\n",
      "middle-aged    4409\n",
      "young adult    2179\n",
      "senior          796\n",
      "teen            567\n",
      "child            82\n",
      "Name: count, dtype: int64\n"
     ]
    }
   ],
   "source": [
    "# Count ratings per user\n",
    "user_rating_counts = ratings['User-ID'].value_counts()\n",
    "\n",
    "# Keep only users with at least 5 ratings \n",
    "active_users = user_rating_counts[user_rating_counts >= 5].index\n",
    "filtered_ratings = ratings[ratings['User-ID'].isin(active_users)]\n",
    "\n",
    "# Merge ratings with users and books\n",
    "merged = filtered_ratings.merge(users, on='User-ID', how='left')\n",
    "merged = merged.merge(books, on='ISBN', how='left')\n",
    "\n",
    "# Get unique users from the merged data\n",
    "filtered_users = merged[['User-ID', 'Age_Group']].drop_duplicates()\n",
    "\n",
    "# Show updated Age_Group distribution\n",
    "print(filtered_users['Age_Group'].value_counts(dropna=False))"
   ]
  },
  {
   "cell_type": "code",
   "execution_count": 5,
   "id": "ac24ae97-8a5b-47ca-9af3-5d919c18b4f0",
   "metadata": {},
   "outputs": [],
   "source": [
    "# Add a 'Read' column with value 1 (every rating means the book was read)\n",
    "merged['Read'] = 1\n",
    "\n",
    "# Count how many users read each book\n",
    "book_read_counts = merged['ISBN'].value_counts()\n",
    "\n",
    "# Keep only books read by at least 10 users\n",
    "popular_books = book_read_counts[book_read_counts >= 10].index\n",
    "filtered_merged = merged[merged['ISBN'].isin(popular_books)]\n",
    "\n",
    "# Create pivot table: users as rows, books as columns, binary values\n",
    "user_book_matrix = filtered_merged.pivot_table(\n",
    "    index='User-ID',\n",
    "    columns='ISBN',\n",
    "    values='Read',\n",
    "    fill_value=0\n",
    ")\n"
   ]
  },
  {
   "cell_type": "code",
   "execution_count": 6,
   "id": "cc136ac6-ea91-4c67-aac6-2562d791f22e",
   "metadata": {},
   "outputs": [
    {
     "name": "stdout",
     "output_type": "stream",
     "text": [
      "User-book matrix shape after dropping unknown-age users: (14285, 16397)\n"
     ]
    }
   ],
   "source": [
    "# Get User-IDs with unknown age\n",
    "unknown_age_users = users[users['Age_Group'] == 'unknown']['User-ID'].unique()\n",
    "\n",
    "# Drop these users from the user-book matrix\n",
    "user_book_matrix = user_book_matrix.drop(index=unknown_age_users, errors='ignore')\n",
    "\n",
    "# check new shape\n",
    "print(f\"User-book matrix shape after dropping unknown-age users: {user_book_matrix.shape}\")"
   ]
  },
  {
   "cell_type": "code",
   "execution_count": null,
   "id": "c2cf0ea2-2edb-4f63-b25d-b57a5959e424",
   "metadata": {},
   "outputs": [],
   "source": [
    "from sklearn.metrics.pairwise import cosine_similarity\n",
    "import random\n",
    "\n",
    "# Create binary user-book matrix (including unknown-age users)\n",
    "user_book_matrix = filtered_merged.pivot_table(\n",
    "    index='User-ID',\n",
    "    columns='ISBN',\n",
    "    values='Read',\n",
    "    fill_value=0\n",
    ")\n",
    "\n",
    "# Identify known and unknown users\n",
    "user_age_map = users.set_index('User-ID')['Age_Group']\n",
    "known_users = user_age_map[user_age_map != 'unknown'].index.intersection(user_book_matrix.index)\n",
    "unknown_users = user_age_map[user_age_map == 'unknown'].index.intersection(user_book_matrix.index)\n",
    "\n",
    "# Prepare known and unknown matrices\n",
    "known_matrix = user_book_matrix.loc[known_users]\n",
    "unknown_matrix = user_book_matrix.loc[unknown_users]\n",
    "\n",
    "# Build lookup for known user age groups\n",
    "age_group_lookup = user_age_map.to_dict()\n",
    "\n",
    "# Predict age group for each unknown user\n",
    "predicted_age_groups = {}\n",
    "\n",
    "for uid in unknown_matrix[1:6].index: #Just as an example result fot first 5 unkown users\n",
    "    target_vector = unknown_matrix.loc[[uid]].values  # Keep 2D shape\n",
    "    similarities = cosine_similarity(target_vector, known_matrix.values)[0]\n",
    "    \n",
    "    # Get top 5 most similar users\n",
    "    top_indices = similarities.argsort()[::-1][:5]\n",
    "    top_user_ids = known_matrix.index[top_indices]\n",
    "    \n",
    "    # Get their age groups\n",
    "    top_age_groups = [age_group_lookup[uid_] for uid_ in top_user_ids]\n",
    "    \n",
    "    # Find majority vote (resolve tie randomly)\n",
    "    counts = pd.Series(top_age_groups).value_counts()\n",
    "    top_group = counts[counts == counts.max()].index.tolist()\n",
    "    predicted_age = random.choice(top_group)\n",
    "    print(counts)\n",
    "    print(top_group)\n",
    "    print(predicted_age)\n",
    "    predicted_age_groups[uid] = predicted_age\n",
    "\n",
    "# Create DataFrame with predictions\n",
    "predicted_df = pd.DataFrame.from_dict(predicted_age_groups, orient='index', columns=['Predicted_Age_Group'])\n",
    "predicted_df.index.name = 'User-ID'\n",
    "predicted_df = predicted_df.reset_index()\n",
    "\n",
    "print(predicted_df.head(10))"
   ]
  }
 ],
 "metadata": {
  "kernelspec": {
   "display_name": "Python 3 (ipykernel)",
   "language": "python",
   "name": "python3"
  },
  "language_info": {
   "codemirror_mode": {
    "name": "ipython",
    "version": 3
   },
   "file_extension": ".py",
   "mimetype": "text/x-python",
   "name": "python",
   "nbconvert_exporter": "python",
   "pygments_lexer": "ipython3",
   "version": "3.12.3"
  }
 },
 "nbformat": 4,
 "nbformat_minor": 5
}
